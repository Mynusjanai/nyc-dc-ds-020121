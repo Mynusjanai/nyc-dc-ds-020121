{
 "cells": [
  {
   "cell_type": "markdown",
   "metadata": {},
   "source": [
    "- - $S$ — set\n",
    "  - $\\Omega$ — universal set\n",
    "  - $x \\in S $ — $x$ belongs to a set\n",
    "  - $x \\notin S $ — $x$ does not belong to a set\n",
    "  - $T \\subseteq S$ — set $T$ is a subset of set $S$\n",
    "  - $T \\subset S$ — set $T$ is a **proper** subset of set $S$\n",
    "  - $S \\setminus T$ _or_ $S-T$ — the relative complement/difference of $S$\n",
    "  - $S'$ _or_ $S^c$ — absolute complement of a set\n",
    "  - $\\varnothing$ _or_ $\\{\\}$  — an empty set\n",
    "  \n",
    " "
   ]
  },
  {
   "cell_type": "markdown",
   "metadata": {},
   "source": [
    "- \n",
    "  - $\\ni$ — owns (has member)\n",
    "  - $\\subset$ — proper subset\t\n",
    "  - $\\subseteq$ — subset\n",
    "  - $\\supset$ — proper superset\n",
    "  - $\\supseteq$ — superset\n",
    "  - $\\cup$ — the union of a set\n",
    "  - $\\cap$ — the intersection of a set\n"
   ]
  },
  {
   "cell_type": "markdown",
   "metadata": {},
   "source": [
    "- \n",
    "  - $\\mathbb{N}$ — a set of natural numbers\n",
    "  - $\\mathbb{Z}$ — a set of integers\n",
    "  - $\\mathbb{Q}$ — a set of rational numbers\n",
    "  - $\\mathbb{A}$ — a set of algebraic numbers\n",
    "  - $\\mathbb{R}$ — a set of real numbers\n",
    "  - $\\mathbb{C}$ — a set of complex numbers"
   ]
  }
 ],
 "metadata": {
  "kernelspec": {
   "display_name": "learn-env",
   "language": "python",
   "name": "learn-env"
  },
  "language_info": {
   "codemirror_mode": {
    "name": "ipython",
    "version": 3
   },
   "file_extension": ".py",
   "mimetype": "text/x-python",
   "name": "python",
   "nbconvert_exporter": "python",
   "pygments_lexer": "ipython3",
   "version": "3.8.5"
  }
 },
 "nbformat": 4,
 "nbformat_minor": 4
}
