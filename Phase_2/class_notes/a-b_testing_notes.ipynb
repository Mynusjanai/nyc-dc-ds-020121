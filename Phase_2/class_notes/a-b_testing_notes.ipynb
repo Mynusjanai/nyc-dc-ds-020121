{
 "cells": [
  {
   "cell_type": "markdown",
   "metadata": {},
   "source": [
    "# A-B Testing Notes"
   ]
  },
  {
   "cell_type": "markdown",
   "metadata": {},
   "source": [
    "### Imports"
   ]
  },
  {
   "cell_type": "code",
   "execution_count": null,
   "metadata": {},
   "outputs": [],
   "source": [
    "import numpy as np\n",
    "import pandas as pd\n",
    "from scipy.special import comb\n",
    "from scipy import stats\n",
    "import seaborn as sns"
   ]
  },
  {
   "cell_type": "markdown",
   "metadata": {},
   "source": [
    "### Calculation\n",
    "\n",
    "Fisher's Test tells us that the $p$-value corresponding to our distribution is given by:\n",
    "\n",
    "$\\Large p = \\frac{(a+b)!(c+d)!(a+c)!(b+d)!}{a!b!c!d!n!}$"
   ]
  },
  {
   "cell_type": "code",
   "execution_count": null,
   "metadata": {},
   "outputs": [],
   "source": [
    "accessories_test_total = sum(df_1['title'] == 'banner_show')\n",
    "sneakers_test_total = sum(df_2['title'] == 'banner_show')\n",
    "\n",
    "# Subtract the total values from those who ordered to get the count of those who did not order.\n",
    "accessories_test_no_orders = accessories_test_total - accessories_test_orders \n",
    "sneakers_test_no_orders = sneakers_test_total - sneakers_test_orders\n",
    "\n",
    "accessories_test_no_orders, sneakers_test_no_orders"
   ]
  },
  {
   "cell_type": "code",
   "execution_count": 59,
   "metadata": {},
   "outputs": [],
   "source": [
    "e = accessories_test_orders\n",
    "f = sneakers_test_orders\n",
    "g = accessories_test_no_orders\n",
    "h = sneakers_test_no_orders"
   ]
  },
  {
   "cell_type": "code",
   "execution_count": null,
   "metadata": {},
   "outputs": [],
   "source": [
    "# accessories top-left, sneakers top-right, and , accessories banner bottom_left, sneaker banner bottom_right\n",
    "np.array([[a, b], [c, d]])accessories_test_total = sum(df_1['title'] == 'banner_show')\n",
    "sneakers_test_total = sum(df_2['title'] == 'banner_show')\n",
    "\n",
    "# Subtract the total values from those who ordered to get the count of those who did not order.\n",
    "accessories_test_no_orders = accessories_test_total - accessories_test_orders \n",
    "sneakers_test_no_orders = sneakers_test_total - sneakers_test_orders\n",
    "\n",
    "accessories_test_no_orders, sneakers_test_no_orders"
   ]
  },
  {
   "cell_type": "code",
   "execution_count": null,
   "metadata": {},
   "outputs": [],
   "source": [
    "# accessories top-left, sneakers top-right, and , accessories banner bottom_left, sneaker banner bottom_right\n",
    "np.array([[e, f], [g, h]]) "
   ]
  },
  {
   "cell_type": "markdown",
   "metadata": {},
   "source": [
    "#### One line of Python Code for result"
   ]
  },
  {
   "cell_type": "code",
   "execution_count": null,
   "metadata": {},
   "outputs": [],
   "source": [
    "stats.fisher_exact(np.array([[a, b], [c, d]]))"
   ]
  }
 ],
 "metadata": {
  "kernelspec": {
   "display_name": "learn-env",
   "language": "python",
   "name": "learn-env"
  },
  "language_info": {
   "codemirror_mode": {
    "name": "ipython",
    "version": 3
   },
   "file_extension": ".py",
   "mimetype": "text/x-python",
   "name": "python",
   "nbconvert_exporter": "python",
   "pygments_lexer": "ipython3",
   "version": "3.8.5"
  }
 },
 "nbformat": 4,
 "nbformat_minor": 4
}
