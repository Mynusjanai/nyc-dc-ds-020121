{
 "cells": [
  {
   "cell_type": "markdown",
   "metadata": {},
   "source": [
    "# Hypothesis Testing"
   ]
  },
  {
   "cell_type": "code",
   "execution_count": 2,
   "metadata": {},
   "outputs": [],
   "source": [
    "import numpy as np\n",
    "from scipy import stats\n",
    "from matplotlib import pyplot as plt\n",
    "import seaborn as sns\n",
    "import pandas as pd\n",
    "from math import gamma\n",
    "%matplotlib inline"
   ]
  },
  {
   "cell_type": "markdown",
   "metadata": {},
   "source": [
    "### Comprehension Check\n",
    "\n",
    "Which test would you run for each these scenarios?\n",
    "\n",
    "1. The average salary per month of an English Premier League player is €240,000. You would like to test whether players who don't have a dominant foot make more than the rest of the league. There are only 25 players who are considered ambidextrous. \n",
    "\n",
    "<details>\n",
    "<summary>\n",
    "    Check\n",
    "</summary>\n",
    "    - Predictor variable is categorical (dominant foot or not) <br/>\n",
    "    - Outcome variable is quantitative (monthly salary) <br/>\n",
    "    - Two groups compared <br/>\n",
    "    - Therefore: $t$-test\n",
    "        - ONE sample (comparing small ambidextrous sample with population)\n",
    "        - ONE tail (MORE $ or not)\n",
    "</details>\n",
    "\n",
    "2. You would like to test whether there is a difference in arrest rates across neighborhoods with different racial majorities. You have point statistics of mean arrest rates associated with neighborhoods of majority White, Black, Hispanic, and Asian populations.\n",
    "\n",
    "<details>\n",
    "    <summary>\n",
    "        Check\n",
    "    </summary>\n",
    "    ANOVA\n",
    "</details>\n",
    "\n",
    "3. You are interested in testing whether the superstition that black cats are bad luck affects adoption rate. You would like to test whether black-fur shelter cats get adopted at a different rate from cats of other fur colors.\n",
    "\n",
    "<details>\n",
    "    <summary>\n",
    "        Check\n",
    "    </summary>\n",
    "    $t$-test\n",
    "        - TWO samples (black cats and non-black cats)\n",
    "        - TWO tails (greater or lesser rate)\n",
    "</details>\n",
    "\n",
    "4. You are interested in whether car-accident rates in cities where marijuana is legal differs from the general rate of car accidents. Assume you know the standard deviation of car accident rates across all U.S. cities.\n",
    "\n",
    "<details>\n",
    "    <summary>\n",
    "        Check\n",
    "    </summary>\n",
    "    $z$-test\n",
    "</details>"
   ]
  },
  {
   "cell_type": "markdown",
   "metadata": {},
   "source": [
    "<br>Our $z$-score tells us how many standard deviations away from the mean our point is.\n",
    "<br>We assume that the sample population is normally destributed, and we are familiar with the empirical rule: <br>66:95:99.7\n",
    "\n",
    "![](img/Empirical_Rule_2.png)"
   ]
  },
  {
   "cell_type": "markdown",
   "metadata": {},
   "source": [
    "### Z-score"
   ]
  },
  {
   "cell_type": "markdown",
   "metadata": {},
   "source": [
    "Recall the following example: Assume the mean height for women is normally distributed with a mean of 65 inches and a standard deviation of 4 inches. What is the $z$-score of a woman who is 75 inches tall?"
   ]
  },
  {
   "cell_type": "markdown",
   "metadata": {},
   "source": [
    "* Regular z_score of population data is: <br>\n"
   ]
  },
  {
   "cell_type": "markdown",
   "metadata": {},
   "source": [
    "> For a single point in relation to a distribution of points:\n",
    "\n",
    "> $z = \\dfrac{{x} - \\mu}{\\sigma}$\n",
    "\n"
   ]
  },
  {
   "cell_type": "markdown",
   "metadata": {},
   "source": [
    "#### In Python Code\n",
    "z = (x_bar - mu)/(std)"
   ]
  },
  {
   "cell_type": "markdown",
   "metadata": {},
   "source": [
    "* z_score for sampling data is:"
   ]
  },
  {
   "cell_type": "markdown",
   "metadata": {},
   "source": [
    "When we are working with a sampling distribution, the z score is equal to <br><br>  \n",
    "> $z = \\dfrac{{\\bar{x}} - \\mu_{0}}{\\dfrac{\\sigma}{\\sqrt{n}}}$"
   ]
  },
  {
   "cell_type": "markdown",
   "metadata": {},
   "source": [
    "#### In Python Code\n",
    "z = (x_bar - mu)/(std/np.sqrt(n))"
   ]
  },
  {
   "cell_type": "markdown",
   "metadata": {},
   "source": [
    "### Variable review: \n",
    "\n",
    "$\\bar{x}$ equals the sample mean.\n",
    "<br>$\\mu_{0}$ is the mean associated with the null hypothesis.\n",
    "<br>$\\sigma$ is the population standard deviation\n",
    "<br>$\\sqrt{n}$ is the sample size, which reflects that we are dealing with a sample of the population, not the entire population."
   ]
  },
  {
   "cell_type": "markdown",
   "metadata": {},
   "source": [
    "The denominator $\\frac{\\sigma}{\\sqrt{n}}$, is the standard error\n",
    "\n",
    "Standard error is the standard deviation of the sampling mean. We will go into that further below.\n",
    "\n",
    "Once we have a z-stat, we can use a [z-table](http://www.z-table.com/) to find the associated p-value."
   ]
  },
  {
   "cell_type": "code",
   "execution_count": 36,
   "metadata": {},
   "outputs": [
    {
     "name": "stdout",
     "output_type": "stream",
     "text": [
      "Percentile =  0.9906132944651613\n",
      "Probability =  0.009386705534838714\n"
     ]
    }
   ],
   "source": [
    "# we can use stats to calculate the percentile / probablility of getting given z score OR higher\n",
    "print(\"Percentile = \", stats.norm.cdf(z))\n",
    "\n",
    "# We can also use the survival function to calculate the probability\n",
    "print(\"Probability = \", stats.norm.sf(z))"
   ]
  },
  {
   "cell_type": "markdown",
   "metadata": {},
   "source": [
    "## $t$-Tests (1 tail test)"
   ]
  },
  {
   "cell_type": "markdown",
   "metadata": {},
   "source": [
    "Let's go back to our Gabonese elephants, but let's reduce the sample size to 20, and assume we don't know the standard deviation of the population, but know the sample standard deviation to be ~355 lbs.\n",
    "\n",
    "Here is the new scenario: suppose we are told that African elephants have weights distributed normally around a mean of 9000 lbs. Pachyderm Adventures has recently measured the weights of 20 African elephants in Gabon and has calculated their average weight at 8637 lbs. They claim that these statistics on the Gabonese elephants are significant. Let's find out!\n",
    "\n",
    "Because the sample size is smaller, we will use a one sample $t$-test.\n",
    "\n",
    "Degrees of freedom = n - 1"
   ]
  },
  {
   "cell_type": "markdown",
   "metadata": {},
   "source": [
    "#### By Hand"
   ]
  },
  {
   "cell_type": "code",
   "execution_count": 19,
   "metadata": {},
   "outputs": [],
   "source": [
    "# here is the array of our weights\n",
    "\n",
    "gab = np.random.normal(8637, 355, 20) # Sample test data where: (center, std, n-points)"
   ]
  },
  {
   "cell_type": "markdown",
   "metadata": {},
   "source": [
    "* This random selection of values won't actually have our desired statistics!"
   ]
  },
  {
   "cell_type": "code",
   "execution_count": 10,
   "metadata": {
    "scrolled": true
   },
   "outputs": [
    {
     "name": "stdout",
     "output_type": "stream",
     "text": [
      "8721.457493855585\n",
      "368.6453210813045\n"
     ]
    }
   ],
   "source": [
    "print(gab.mean())\n",
    "print(gab.std())"
   ]
  },
  {
   "cell_type": "markdown",
   "metadata": {},
   "source": [
    "* Let's set this up so that we actually have what we want!"
   ]
  },
  {
   "cell_type": "code",
   "execution_count": 11,
   "metadata": {
    "scrolled": true
   },
   "outputs": [
    {
     "name": "stdout",
     "output_type": "stream",
     "text": [
      "8637.0\n"
     ]
    }
   ],
   "source": [
    "gab = gab + (8637 - gab.mean())\n",
    "print(gab.mean())"
   ]
  },
  {
   "cell_type": "code",
   "execution_count": 12,
   "metadata": {},
   "outputs": [
    {
     "name": "stdout",
     "output_type": "stream",
     "text": [
      "354.99999999999994\n"
     ]
    }
   ],
   "source": [
    "gab = gab * (355 / gab.std())\n",
    "print(gab.std())"
   ]
  },
  {
   "cell_type": "code",
   "execution_count": 13,
   "metadata": {},
   "outputs": [
    {
     "data": {
      "text/plain": [
       "-4.57291648356295"
      ]
     },
     "execution_count": 13,
     "metadata": {},
     "output_type": "execute_result"
    }
   ],
   "source": [
    "# Let's continue to assume our alpha is 0.05\n",
    "x_bar = 8637\n",
    "mu = 9000         # Mean\n",
    "sample_std = 355  # \"gab\"\n",
    "n = 20\n",
    "\n",
    "t_stat = (x_bar - mu)/(sample_std/np.sqrt(n))\n",
    "t_stat"
   ]
  },
  {
   "cell_type": "markdown",
   "metadata": {},
   "source": [
    "#### Using Python Code"
   ]
  },
  {
   "cell_type": "markdown",
   "metadata": {},
   "source": [
    "* Now, let's use the t-table to find our critical t-value.\n",
    "t-critical = -1.729"
   ]
  },
  {
   "cell_type": "markdown",
   "metadata": {},
   "source": [
    "* z = (sampling mean - population mean)/(population std/np.sqrt(n)) - from formula: <br><br>\n",
    "$\\Large z = \\dfrac{{\\bar{x}} - \\mu_{0}}{\\dfrac{\\sigma}{\\sqrt{n}}}$  <br><br>\n",
    "\n",
    "$\\bar{x}$ equals the sample mean.\n",
    "<br>$\\mu_{0}$ is the mean associated with the null hypothesis.\n",
    "<br>$\\sigma$ is the population standard deviation\n",
    "<br>$\\sqrt{n}$ is the sample size, which reflects that we are dealing with a sample of the population, not the entire population."
   ]
  },
  {
   "cell_type": "code",
   "execution_count": 38,
   "metadata": {
    "scrolled": true
   },
   "outputs": [
    {
     "name": "stdout",
     "output_type": "stream",
     "text": [
      "Percentile =  0.9906132944651613\n",
      "Probability =  0.009386705534838714\n"
     ]
    }
   ],
   "source": [
    "# we can use stats to calculate the percentile / probablility of getting given z score OR higher\n",
    "print(\"Percentile = \", stats.norm.cdf(z))\n",
    "\n",
    "# We can also use the survival function to calculate the probability\n",
    "print(\"Probability = \", stats.norm.sf(z))"
   ]
  },
  {
   "cell_type": "code",
   "execution_count": 28,
   "metadata": {
    "scrolled": true
   },
   "outputs": [
    {
     "data": {
      "text/plain": [
       "Ttest_1sampResult(statistic=-4.804800263145146, pvalue=0.00012312972477890294)"
      ]
     },
     "execution_count": 28,
     "metadata": {},
     "output_type": "execute_result"
    }
   ],
   "source": [
    "# Using Python to get the t-statistic & P-value:\n",
    "stats.ttest_1samp(gab, 9000)"
   ]
  },
  {
   "cell_type": "markdown",
   "metadata": {},
   "source": [
    "## Compare and contrast $z$-tests and $t$-tests. \n",
    "In both cases, it is assumed that the samples are normally distributed. \n",
    "\n",
    "$t$-distributions have more probability in the tails. As the sample size increases, this decreases and the t distribution more closely resembles the $z$, or standard normal, distribution. By sample size $n = 1000$ they are virtually indistinguishable from each other. \n",
    "\n",
    "As the degrees of freedom go up, the $t$-distribution gets closer to the normal curve.\n",
    "\n",
    "After calculating our $t$-stat, we compare it against our $t$-critical value determined by our preditermined alpha and the degrees of freedom.\n",
    "\n",
    "Degrees of freedom = n - 1"
   ]
  },
  {
   "cell_type": "markdown",
   "metadata": {},
   "source": [
    "### Two sample $t$-tests (2 tailed test)"
   ]
  },
  {
   "cell_type": "markdown",
   "metadata": {},
   "source": [
    "#### By Hand"
   ]
  },
  {
   "cell_type": "code",
   "execution_count": 26,
   "metadata": {},
   "outputs": [
    {
     "data": {
      "text/plain": [
       "-1.2868709981121276"
      ]
     },
     "execution_count": 26,
     "metadata": {},
     "output_type": "execute_result"
    }
   ],
   "source": [
    "# By hand\n",
    "\n",
    "x_1 = np.mean(gab)\n",
    "x_2 = np.mean(ken)\n",
    "s_1_2 = np.var(gab, ddof = 1)\n",
    "s_2_2 = np.var(ken, ddof = 1)\n",
    "n_1 = len(gab)\n",
    "n_2 = len(ken)\n",
    "s_p_2 = ((n_1 - 1)*s_1_2 + (n_2 - 1 )* s_2_2)/(n_1 + n_2 -2)\n",
    "\n",
    "t = (x_1 - x_2)/np.sqrt(s_p_2*(1/n_1 + 1/n_2))\n",
    "t"
   ]
  },
  {
   "cell_type": "code",
   "execution_count": 25,
   "metadata": {},
   "outputs": [
    {
     "data": {
      "text/plain": [
       "89361.47957445966"
      ]
     },
     "execution_count": 25,
     "metadata": {},
     "output_type": "execute_result"
    }
   ],
   "source": [
    "# By hand \n",
    "s_p_2 = ((n_1 - 1)*s_1_2 + (n_2 - 1 )* s_2_2)/(n_1 + n_2 -2)\n",
    "s_p_2"
   ]
  },
  {
   "cell_type": "code",
   "execution_count": 27,
   "metadata": {},
   "outputs": [
    {
     "name": "stdout",
     "output_type": "stream",
     "text": [
      "107676.12756997196 71046.83157894739\n"
     ]
    }
   ],
   "source": [
    "# By hand\n",
    "print(s_1_2, s_2_2 )"
   ]
  },
  {
   "cell_type": "code",
   "execution_count": 37,
   "metadata": {
    "scrolled": false
   },
   "outputs": [
    {
     "name": "stdout",
     "output_type": "stream",
     "text": [
      "Percentile =  0.099069627689014\n",
      "Probability =  0.900930372310986\n"
     ]
    }
   ],
   "source": [
    "# we can use stats to calculate the percentile / probablility of getting given t score OR higher\n",
    "print(\"Percentile = \", stats.norm.cdf(t))\n",
    "\n",
    "# We can also use the survival function to calculate the probability\n",
    "print(\"Probability = \", stats.norm.sf(t))"
   ]
  },
  {
   "cell_type": "markdown",
   "metadata": {},
   "source": [
    "#### In Python Code"
   ]
  },
  {
   "cell_type": "code",
   "execution_count": 20,
   "metadata": {
    "scrolled": true
   },
   "outputs": [
    {
     "name": "stdout",
     "output_type": "stream",
     "text": [
      "259.79701691897856\n",
      "319.8317076080378\n"
     ]
    }
   ],
   "source": [
    "# Sample data done in Python\n",
    "ken = [8762, 8880, 8743, 8901,\n",
    "        8252, 8966, 8369, 9001,\n",
    "         8857, 8147, 8927, 9005,\n",
    "         9083, 8477, 8760, 8915,\n",
    "         8927, 8829, 8579, 9002]\n",
    "\n",
    "\n",
    "print(np.std(ken))\n",
    "print(np.std(gab))"
   ]
  },
  {
   "cell_type": "code",
   "execution_count": 21,
   "metadata": {
    "scrolled": true
   },
   "outputs": [
    {
     "data": {
      "text/plain": [
       "Ttest_indResult(statistic=-1.2868709981121276, pvalue=0.20624809368290312)"
      ]
     },
     "execution_count": 21,
     "metadata": {},
     "output_type": "execute_result"
    }
   ],
   "source": [
    "# In Python to get the t-statistic & P-value\n",
    "stats.ttest_ind(gab, ken, equal_var=False)"
   ]
  },
  {
   "cell_type": "code",
   "execution_count": null,
   "metadata": {},
   "outputs": [],
   "source": [
    "# conducting a T Test\n",
    "stats.ttest_ind(experiment['Likes_Given_Exp'], control['Likes_Given_Con']) # equal_var default is True"
   ]
  },
  {
   "cell_type": "code",
   "execution_count": 35,
   "metadata": {},
   "outputs": [
    {
     "name": "stdout",
     "output_type": "stream",
     "text": [
      "-2.063898561628021\n",
      "2.0638985616280205\n"
     ]
    }
   ],
   "source": [
    "# Calculate our t-critical value for 2 tailed test (.025 & .975)\n",
    "print(stats.t.ppf(0.025, 24)) # 24 is the degrees of freedom (n-1)\n",
    "print(stats.t.ppf(0.975, 24))"
   ]
  },
  {
   "cell_type": "code",
   "execution_count": null,
   "metadata": {},
   "outputs": [],
   "source": []
  }
 ],
 "metadata": {
  "kernelspec": {
   "display_name": "learn-env",
   "language": "python",
   "name": "learn-env"
  },
  "language_info": {
   "codemirror_mode": {
    "name": "ipython",
    "version": 3
   },
   "file_extension": ".py",
   "mimetype": "text/x-python",
   "name": "python",
   "nbconvert_exporter": "python",
   "pygments_lexer": "ipython3",
   "version": "3.8.5"
  }
 },
 "nbformat": 4,
 "nbformat_minor": 4
}
