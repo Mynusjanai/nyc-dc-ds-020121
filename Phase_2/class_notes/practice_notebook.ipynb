{
 "cells": [
  {
   "cell_type": "code",
   "execution_count": 17,
   "metadata": {},
   "outputs": [],
   "source": [
    "import numpy as np\n",
    "from scipy import stats\n",
    "import pandas as pd\n",
    "import matplotlib.pyplot as plt\n",
    "import seaborn as sns\n",
    "import statsmodels.api as sm\n",
    "from statsmodels.formula.api import ols\n",
    "from statsmodels.stats.multicomp import pairwise_tukeyhsd\n",
    "from statsmodels.stats.proportion import proportions_ztest\n",
    "from scipy.stats import stats\n",
    "from scipy.stats import chi2_contingency # chi-squared test with similar proportions\n",
    "from scipy.stats import chi2\n",
    "from statsmodels.stats import weightstats as stests"
   ]
  },
  {
   "cell_type": "code",
   "execution_count": 7,
   "metadata": {},
   "outputs": [
    {
     "data": {
      "text/plain": [
       "2.0"
      ]
     },
     "execution_count": 7,
     "metadata": {},
     "output_type": "execute_result"
    }
   ],
   "source": [
    "z = (26 - 20)/(3/np.sqrt(1))\n",
    "z"
   ]
  },
  {
   "cell_type": "code",
   "execution_count": 11,
   "metadata": {},
   "outputs": [
    {
     "data": {
      "text/plain": [
       "(1.4433756729740645, 0.14891467317876572)"
      ]
     },
     "execution_count": 11,
     "metadata": {},
     "output_type": "execute_result"
    }
   ],
   "source": [
    "p_under_26 = proportions_ztest(count=2.0, nobs=50, value=0)\n",
    "p_under_26"
   ]
  },
  {
   "cell_type": "code",
   "execution_count": 12,
   "metadata": {},
   "outputs": [
    {
     "data": {
      "text/plain": [
       "(-1.6603911559963902, 1.6603911559963895)"
      ]
     },
     "execution_count": 12,
     "metadata": {},
     "output_type": "execute_result"
    }
   ],
   "source": [
    "conf_low = stats.t.ppf(0.05, 100-1)\n",
    "conf_high = stats.t.ppf(0.95, 100-1)\n",
    "conf_low, conf_high"
   ]
  },
  {
   "cell_type": "code",
   "execution_count": 15,
   "metadata": {},
   "outputs": [
    {
     "name": "stdout",
     "output_type": "stream",
     "text": [
      "18.501882653201083\n",
      "19.498117346798917\n"
     ]
    }
   ],
   "source": [
    "mean = 19\n",
    "std = 3\n",
    "n = 100\n",
    "t_val = stats.t.ppf(.95, n-1)\n",
    "mar_error = (t_val * std) / (n ** .5)\n",
    "(mean - mar_error, mean + mar_error)\n",
    "conf_low = mean - mar_error\n",
    "conf_high = mean + mar_error\n",
    "\n",
    "print(conf_low)\n",
    "print(conf_high)"
   ]
  },
  {
   "cell_type": "code",
   "execution_count": 21,
   "metadata": {},
   "outputs": [
    {
     "data": {
      "text/plain": [
       "Ttest_indResult(statistic=nan, pvalue=nan)"
      ]
     },
     "execution_count": 21,
     "metadata": {},
     "output_type": "execute_result"
    }
   ],
   "source": [
    "p_value = stats.ttest_ind(2000, 1000, equal_var=True)\n",
    "p_value"
   ]
  },
  {
   "cell_type": "code",
   "execution_count": 29,
   "metadata": {},
   "outputs": [
    {
     "data": {
      "text/plain": [
       "0.05"
      ]
     },
     "execution_count": 29,
     "metadata": {},
     "output_type": "execute_result"
    }
   ],
   "source": [
    "P_a = .01\n",
    "P_b_given_a = .10\n",
    "P_b = .02\n",
    "P_not_a = .99\n",
    "\n",
    "P_a_given_b = (P_a * P_b_given_a) / P_b\n",
    "P_a_given_b"
   ]
  },
  {
   "cell_type": "code",
   "execution_count": null,
   "metadata": {},
   "outputs": [],
   "source": [
    "P_a = .01\n",
    "P_b_given_a = .10\n",
    "P_b_not_a = .02\n",
    "P_not_a = .99"
   ]
  }
 ],
 "metadata": {
  "kernelspec": {
   "display_name": "learn-env",
   "language": "python",
   "name": "learn-env"
  },
  "language_info": {
   "codemirror_mode": {
    "name": "ipython",
    "version": 3
   },
   "file_extension": ".py",
   "mimetype": "text/x-python",
   "name": "python",
   "nbconvert_exporter": "python",
   "pygments_lexer": "ipython3",
   "version": "3.8.5"
  }
 },
 "nbformat": 4,
 "nbformat_minor": 4
}
