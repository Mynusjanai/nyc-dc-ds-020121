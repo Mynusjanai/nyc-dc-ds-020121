{
 "cells": [
  {
   "cell_type": "markdown",
   "metadata": {},
   "source": [
    "# Text Classification Assessment\n",
    "\n",
    "This assessment is a text classification project where the goal is to classify the genre of a movie based on its characteristics, primarily the text of the plot summarization. You have a training set of data that you will use to identify and create your best predicting model. Then you will use that model to predict the classes of the test set of data. We will compare the performance of your predictions to your classmates using the F1 Score. https://scikit-learn.org/stable/modules/generated/sklearn.metrics.f1_score.html\n",
    "\n",
    "The **movie_train.csv** dataset contains information (`Release Year`, `Title`, `Plot`, `Director`, `Cast`) about 10,682 movies and the label of `Genre`. There are 9 different genres in this data set, so this is a multiclass problem. You are expected to primarily use the plot column, but can use the additional columns as you see fit.\n",
    "\n",
    "After you have identified yoru best performing model, you will create predictions for the test set of data. The test set of data, contains 3,561 movies with all of their information except the `Genre`. \n",
    "\n",
    "Below is a list of tasks that you will definitely want to complete for this challenge, but this list is not exhaustive. It does not include any tasds around handling class imbalance or about how to test multiple different models and their tuning parameters, but you should still look at doing those to see if they help you to create a better predictive model.\n",
    "\n",
    "\n",
    "# Good Luck"
   ]
  },
  {
   "cell_type": "markdown",
   "metadata": {},
   "source": [
    "### Task #1: Perform imports and load the dataset into a pandas DataFrame\n"
   ]
  },
  {
   "cell_type": "code",
   "execution_count": 168,
   "metadata": {},
   "outputs": [],
   "source": [
    "import pandas as pd\n",
    "import numpy as np\n",
    "import nltk\n",
    "from nltk.probability import FreqDist\n",
    "from nltk.corpus import stopwords\n",
    "from nltk.tokenize import regexp_tokenize, word_tokenize, RegexpTokenizer\n",
    "import matplotlib.pyplot as plt\n",
    "import re"
   ]
  },
  {
   "cell_type": "code",
   "execution_count": 169,
   "metadata": {},
   "outputs": [],
   "source": [
    "df = pd.read_csv('movie_train.csv', index_col=0)"
   ]
  },
  {
   "cell_type": "code",
   "execution_count": 170,
   "metadata": {},
   "outputs": [
    {
     "data": {
      "text/html": [
       "<div>\n",
       "<style scoped>\n",
       "    .dataframe tbody tr th:only-of-type {\n",
       "        vertical-align: middle;\n",
       "    }\n",
       "\n",
       "    .dataframe tbody tr th {\n",
       "        vertical-align: top;\n",
       "    }\n",
       "\n",
       "    .dataframe thead th {\n",
       "        text-align: right;\n",
       "    }\n",
       "</style>\n",
       "<table border=\"1\" class=\"dataframe\">\n",
       "  <thead>\n",
       "    <tr style=\"text-align: right;\">\n",
       "      <th></th>\n",
       "      <th>Release Year</th>\n",
       "      <th>Title</th>\n",
       "      <th>Plot</th>\n",
       "      <th>Director</th>\n",
       "      <th>Cast</th>\n",
       "      <th>Genre</th>\n",
       "    </tr>\n",
       "  </thead>\n",
       "  <tbody>\n",
       "    <tr>\n",
       "      <th>10281</th>\n",
       "      <td>1984</td>\n",
       "      <td>Silent Madness</td>\n",
       "      <td>A computer error leads to the accidental relea...</td>\n",
       "      <td>Simon Nuchtern</td>\n",
       "      <td>Belinda Montgomery, Viveca Lindfors</td>\n",
       "      <td>horror</td>\n",
       "    </tr>\n",
       "    <tr>\n",
       "      <th>7341</th>\n",
       "      <td>1960</td>\n",
       "      <td>Desire in the Dust</td>\n",
       "      <td>Lonnie Wilson (Ken Scott), the son of a sharec...</td>\n",
       "      <td>Robert L. Lippert</td>\n",
       "      <td>Raymond Burr, Martha Hyer, Joan Bennett</td>\n",
       "      <td>drama</td>\n",
       "    </tr>\n",
       "    <tr>\n",
       "      <th>10587</th>\n",
       "      <td>1986</td>\n",
       "      <td>On the Edge</td>\n",
       "      <td>A gaunt, bushy-bearded, 44-year-old Wes Holman...</td>\n",
       "      <td>Rob Nilsson</td>\n",
       "      <td>Bruce Dern, Pam Grier</td>\n",
       "      <td>drama</td>\n",
       "    </tr>\n",
       "    <tr>\n",
       "      <th>25495</th>\n",
       "      <td>1988</td>\n",
       "      <td>Ram-Avtar</td>\n",
       "      <td>Ram and Avtar are both childhood best friends....</td>\n",
       "      <td>Sunil Hingorani</td>\n",
       "      <td>Sunny Deol, Anil Kapoor, Sridevi</td>\n",
       "      <td>drama</td>\n",
       "    </tr>\n",
       "    <tr>\n",
       "      <th>16607</th>\n",
       "      <td>2013</td>\n",
       "      <td>Machete Kills</td>\n",
       "      <td>Machete Cortez (Danny Trejo) and Sartana River...</td>\n",
       "      <td>Robert Rodriguez</td>\n",
       "      <td>Danny Trejo, Michelle Rodriguez, Sofía Vergara...</td>\n",
       "      <td>action</td>\n",
       "    </tr>\n",
       "  </tbody>\n",
       "</table>\n",
       "</div>"
      ],
      "text/plain": [
       "       Release Year               Title  \\\n",
       "10281          1984      Silent Madness   \n",
       "7341           1960  Desire in the Dust   \n",
       "10587          1986         On the Edge   \n",
       "25495          1988           Ram-Avtar   \n",
       "16607          2013       Machete Kills   \n",
       "\n",
       "                                                    Plot           Director  \\\n",
       "10281  A computer error leads to the accidental relea...     Simon Nuchtern   \n",
       "7341   Lonnie Wilson (Ken Scott), the son of a sharec...  Robert L. Lippert   \n",
       "10587  A gaunt, bushy-bearded, 44-year-old Wes Holman...        Rob Nilsson   \n",
       "25495  Ram and Avtar are both childhood best friends....    Sunil Hingorani   \n",
       "16607  Machete Cortez (Danny Trejo) and Sartana River...   Robert Rodriguez   \n",
       "\n",
       "                                                    Cast   Genre  \n",
       "10281                Belinda Montgomery, Viveca Lindfors  horror  \n",
       "7341             Raymond Burr, Martha Hyer, Joan Bennett   drama  \n",
       "10587                              Bruce Dern, Pam Grier   drama  \n",
       "25495                   Sunny Deol, Anil Kapoor, Sridevi   drama  \n",
       "16607  Danny Trejo, Michelle Rodriguez, Sofía Vergara...  action  "
      ]
     },
     "execution_count": 170,
     "metadata": {},
     "output_type": "execute_result"
    }
   ],
   "source": [
    "df.head()"
   ]
  },
  {
   "cell_type": "markdown",
   "metadata": {},
   "source": [
    "### Task #2: Check for missing values:"
   ]
  },
  {
   "cell_type": "code",
   "execution_count": 171,
   "metadata": {},
   "outputs": [
    {
     "data": {
      "text/html": [
       "<div>\n",
       "<style scoped>\n",
       "    .dataframe tbody tr th:only-of-type {\n",
       "        vertical-align: middle;\n",
       "    }\n",
       "\n",
       "    .dataframe tbody tr th {\n",
       "        vertical-align: top;\n",
       "    }\n",
       "\n",
       "    .dataframe thead th {\n",
       "        text-align: right;\n",
       "    }\n",
       "</style>\n",
       "<table border=\"1\" class=\"dataframe\">\n",
       "  <thead>\n",
       "    <tr style=\"text-align: right;\">\n",
       "      <th></th>\n",
       "      <th>Release Year</th>\n",
       "      <th>Title</th>\n",
       "      <th>Plot</th>\n",
       "      <th>Director</th>\n",
       "      <th>Cast</th>\n",
       "      <th>Genre</th>\n",
       "    </tr>\n",
       "  </thead>\n",
       "  <tbody>\n",
       "    <tr>\n",
       "      <th>10281</th>\n",
       "      <td>False</td>\n",
       "      <td>False</td>\n",
       "      <td>False</td>\n",
       "      <td>False</td>\n",
       "      <td>False</td>\n",
       "      <td>False</td>\n",
       "    </tr>\n",
       "    <tr>\n",
       "      <th>7341</th>\n",
       "      <td>False</td>\n",
       "      <td>False</td>\n",
       "      <td>False</td>\n",
       "      <td>False</td>\n",
       "      <td>False</td>\n",
       "      <td>False</td>\n",
       "    </tr>\n",
       "    <tr>\n",
       "      <th>10587</th>\n",
       "      <td>False</td>\n",
       "      <td>False</td>\n",
       "      <td>False</td>\n",
       "      <td>False</td>\n",
       "      <td>False</td>\n",
       "      <td>False</td>\n",
       "    </tr>\n",
       "    <tr>\n",
       "      <th>25495</th>\n",
       "      <td>False</td>\n",
       "      <td>False</td>\n",
       "      <td>False</td>\n",
       "      <td>False</td>\n",
       "      <td>False</td>\n",
       "      <td>False</td>\n",
       "    </tr>\n",
       "    <tr>\n",
       "      <th>16607</th>\n",
       "      <td>False</td>\n",
       "      <td>False</td>\n",
       "      <td>False</td>\n",
       "      <td>False</td>\n",
       "      <td>False</td>\n",
       "      <td>False</td>\n",
       "    </tr>\n",
       "    <tr>\n",
       "      <th>...</th>\n",
       "      <td>...</td>\n",
       "      <td>...</td>\n",
       "      <td>...</td>\n",
       "      <td>...</td>\n",
       "      <td>...</td>\n",
       "      <td>...</td>\n",
       "    </tr>\n",
       "    <tr>\n",
       "      <th>4652</th>\n",
       "      <td>False</td>\n",
       "      <td>False</td>\n",
       "      <td>False</td>\n",
       "      <td>False</td>\n",
       "      <td>False</td>\n",
       "      <td>False</td>\n",
       "    </tr>\n",
       "    <tr>\n",
       "      <th>23220</th>\n",
       "      <td>False</td>\n",
       "      <td>False</td>\n",
       "      <td>False</td>\n",
       "      <td>False</td>\n",
       "      <td>False</td>\n",
       "      <td>False</td>\n",
       "    </tr>\n",
       "    <tr>\n",
       "      <th>15847</th>\n",
       "      <td>False</td>\n",
       "      <td>False</td>\n",
       "      <td>False</td>\n",
       "      <td>False</td>\n",
       "      <td>False</td>\n",
       "      <td>False</td>\n",
       "    </tr>\n",
       "    <tr>\n",
       "      <th>3102</th>\n",
       "      <td>False</td>\n",
       "      <td>False</td>\n",
       "      <td>False</td>\n",
       "      <td>False</td>\n",
       "      <td>False</td>\n",
       "      <td>False</td>\n",
       "    </tr>\n",
       "    <tr>\n",
       "      <th>3583</th>\n",
       "      <td>False</td>\n",
       "      <td>False</td>\n",
       "      <td>False</td>\n",
       "      <td>False</td>\n",
       "      <td>False</td>\n",
       "      <td>False</td>\n",
       "    </tr>\n",
       "  </tbody>\n",
       "</table>\n",
       "<p>10682 rows × 6 columns</p>\n",
       "</div>"
      ],
      "text/plain": [
       "       Release Year  Title   Plot  Director   Cast  Genre\n",
       "10281         False  False  False     False  False  False\n",
       "7341          False  False  False     False  False  False\n",
       "10587         False  False  False     False  False  False\n",
       "25495         False  False  False     False  False  False\n",
       "16607         False  False  False     False  False  False\n",
       "...             ...    ...    ...       ...    ...    ...\n",
       "4652          False  False  False     False  False  False\n",
       "23220         False  False  False     False  False  False\n",
       "15847         False  False  False     False  False  False\n",
       "3102          False  False  False     False  False  False\n",
       "3583          False  False  False     False  False  False\n",
       "\n",
       "[10682 rows x 6 columns]"
      ]
     },
     "execution_count": 171,
     "metadata": {},
     "output_type": "execute_result"
    }
   ],
   "source": [
    "# Check for whitespace strings (it's OK if there aren't any!):\n",
    "df.isna()"
   ]
  },
  {
   "cell_type": "code",
   "execution_count": 172,
   "metadata": {},
   "outputs": [
    {
     "data": {
      "text/plain": [
       "(array([   21,   261,   494,   498,   521,   533,   576,   591,   663,\n",
       "          702,   803,   839,   847,   852,   948,   957,  1029,  1048,\n",
       "         1177,  1353,  1488,  1497,  1517,  1565,  1607,  1665,  1722,\n",
       "         1808,  1884,  1934,  1990,  1995,  1997,  2052,  2060,  2082,\n",
       "         2202,  2251,  2360,  2451,  2540,  2547,  2869,  2906,  2907,\n",
       "         2995,  3124,  3169,  3237,  3356,  3468,  3562,  3656,  3672,\n",
       "         3685,  3693,  3698,  3734,  3748,  3796,  3870,  3895,  3960,\n",
       "         4121,  4155,  4226,  4269,  4315,  4324,  4344,  4407,  4530,\n",
       "         4762,  4777,  4816,  4817,  4916,  4926,  5031,  5052,  5188,\n",
       "         5275,  5328,  5401,  5403,  5733,  5846,  5909,  5928,  5973,\n",
       "         5983,  5986,  6008,  6115,  6152,  6397,  6438,  6463,  6494,\n",
       "         6496,  6500,  6589,  6862,  6971,  6985,  6994,  6998,  7035,\n",
       "         7098,  7339,  7372,  7489,  7502,  7621,  7719,  7766,  7770,\n",
       "         7785,  7990,  8045,  8068,  8171,  8177,  8195,  8205,  8332,\n",
       "         8385,  8386,  8484,  8512,  8532,  8587,  8589,  8600,  8637,\n",
       "         8809,  8895,  8990,  9098,  9158,  9260,  9336,  9454,  9496,\n",
       "         9596,  9627,  9662,  9691,  9695,  9698,  9768,  9809,  9855,\n",
       "         9900,  9949,  9967, 10042, 10086, 10136, 10235, 10278, 10284,\n",
       "        10300, 10350, 10361, 10389, 10397, 10479, 10646], dtype=int64),\n",
       " array([4, 4, 4, 4, 4, 4, 4, 4, 4, 4, 4, 4, 4, 4, 4, 4, 4, 4, 4, 4, 4, 4,\n",
       "        4, 4, 4, 4, 4, 4, 4, 4, 4, 4, 4, 4, 4, 4, 4, 4, 4, 4, 4, 4, 4, 4,\n",
       "        4, 4, 4, 4, 4, 4, 4, 4, 4, 4, 4, 4, 4, 4, 4, 4, 4, 4, 4, 4, 4, 4,\n",
       "        4, 4, 4, 4, 4, 4, 4, 4, 4, 4, 4, 4, 4, 4, 4, 4, 4, 4, 4, 4, 4, 4,\n",
       "        4, 4, 4, 4, 4, 4, 4, 4, 4, 4, 4, 4, 4, 4, 4, 4, 4, 4, 4, 4, 4, 4,\n",
       "        4, 4, 4, 4, 4, 4, 4, 4, 4, 4, 4, 4, 4, 4, 4, 4, 4, 4, 4, 4, 4, 4,\n",
       "        4, 4, 4, 4, 4, 4, 4, 4, 4, 4, 4, 4, 4, 4, 4, 4, 4, 4, 4, 4, 4, 4,\n",
       "        4, 4, 4, 4, 4, 4, 4, 4, 4, 4, 4, 4, 4, 4, 4], dtype=int64))"
      ]
     },
     "execution_count": 172,
     "metadata": {},
     "output_type": "execute_result"
    }
   ],
   "source": [
    "np.where(pd.isnull(df))"
   ]
  },
  {
   "cell_type": "code",
   "execution_count": 173,
   "metadata": {},
   "outputs": [
    {
     "data": {
      "text/plain": [
       "Index(['Release Year', 'Title', 'Plot', 'Director', 'Cast', 'Genre'], dtype='object')"
      ]
     },
     "execution_count": 173,
     "metadata": {},
     "output_type": "execute_result"
    }
   ],
   "source": [
    "df.columns"
   ]
  },
  {
   "cell_type": "markdown",
   "metadata": {},
   "source": [
    "### Task #3: Remove NaN values:"
   ]
  },
  {
   "cell_type": "code",
   "execution_count": 174,
   "metadata": {},
   "outputs": [
    {
     "data": {
      "text/html": [
       "<div>\n",
       "<style scoped>\n",
       "    .dataframe tbody tr th:only-of-type {\n",
       "        vertical-align: middle;\n",
       "    }\n",
       "\n",
       "    .dataframe tbody tr th {\n",
       "        vertical-align: top;\n",
       "    }\n",
       "\n",
       "    .dataframe thead th {\n",
       "        text-align: right;\n",
       "    }\n",
       "</style>\n",
       "<table border=\"1\" class=\"dataframe\">\n",
       "  <thead>\n",
       "    <tr style=\"text-align: right;\">\n",
       "      <th></th>\n",
       "      <th>Release Year</th>\n",
       "      <th>Title</th>\n",
       "      <th>Plot</th>\n",
       "      <th>Director</th>\n",
       "      <th>Cast</th>\n",
       "      <th>Genre</th>\n",
       "    </tr>\n",
       "  </thead>\n",
       "  <tbody>\n",
       "    <tr>\n",
       "      <th>10281</th>\n",
       "      <td>1984</td>\n",
       "      <td>Silent Madness</td>\n",
       "      <td>A computer error leads to the accidental relea...</td>\n",
       "      <td>Simon Nuchtern</td>\n",
       "      <td>Belinda Montgomery, Viveca Lindfors</td>\n",
       "      <td>horror</td>\n",
       "    </tr>\n",
       "    <tr>\n",
       "      <th>7341</th>\n",
       "      <td>1960</td>\n",
       "      <td>Desire in the Dust</td>\n",
       "      <td>Lonnie Wilson (Ken Scott), the son of a sharec...</td>\n",
       "      <td>Robert L. Lippert</td>\n",
       "      <td>Raymond Burr, Martha Hyer, Joan Bennett</td>\n",
       "      <td>drama</td>\n",
       "    </tr>\n",
       "    <tr>\n",
       "      <th>10587</th>\n",
       "      <td>1986</td>\n",
       "      <td>On the Edge</td>\n",
       "      <td>A gaunt, bushy-bearded, 44-year-old Wes Holman...</td>\n",
       "      <td>Rob Nilsson</td>\n",
       "      <td>Bruce Dern, Pam Grier</td>\n",
       "      <td>drama</td>\n",
       "    </tr>\n",
       "    <tr>\n",
       "      <th>25495</th>\n",
       "      <td>1988</td>\n",
       "      <td>Ram-Avtar</td>\n",
       "      <td>Ram and Avtar are both childhood best friends....</td>\n",
       "      <td>Sunil Hingorani</td>\n",
       "      <td>Sunny Deol, Anil Kapoor, Sridevi</td>\n",
       "      <td>drama</td>\n",
       "    </tr>\n",
       "    <tr>\n",
       "      <th>16607</th>\n",
       "      <td>2013</td>\n",
       "      <td>Machete Kills</td>\n",
       "      <td>Machete Cortez (Danny Trejo) and Sartana River...</td>\n",
       "      <td>Robert Rodriguez</td>\n",
       "      <td>Danny Trejo, Michelle Rodriguez, Sofía Vergara...</td>\n",
       "      <td>action</td>\n",
       "    </tr>\n",
       "  </tbody>\n",
       "</table>\n",
       "</div>"
      ],
      "text/plain": [
       "       Release Year               Title  \\\n",
       "10281          1984      Silent Madness   \n",
       "7341           1960  Desire in the Dust   \n",
       "10587          1986         On the Edge   \n",
       "25495          1988           Ram-Avtar   \n",
       "16607          2013       Machete Kills   \n",
       "\n",
       "                                                    Plot           Director  \\\n",
       "10281  A computer error leads to the accidental relea...     Simon Nuchtern   \n",
       "7341   Lonnie Wilson (Ken Scott), the son of a sharec...  Robert L. Lippert   \n",
       "10587  A gaunt, bushy-bearded, 44-year-old Wes Holman...        Rob Nilsson   \n",
       "25495  Ram and Avtar are both childhood best friends....    Sunil Hingorani   \n",
       "16607  Machete Cortez (Danny Trejo) and Sartana River...   Robert Rodriguez   \n",
       "\n",
       "                                                    Cast   Genre  \n",
       "10281                Belinda Montgomery, Viveca Lindfors  horror  \n",
       "7341             Raymond Burr, Martha Hyer, Joan Bennett   drama  \n",
       "10587                              Bruce Dern, Pam Grier   drama  \n",
       "25495                   Sunny Deol, Anil Kapoor, Sridevi   drama  \n",
       "16607  Danny Trejo, Michelle Rodriguez, Sofía Vergara...  action  "
      ]
     },
     "execution_count": 174,
     "metadata": {},
     "output_type": "execute_result"
    }
   ],
   "source": [
    "df['Cast'] = np.where((df['Cast'].isna()), df.drop, df['Cast'])\n",
    "df.head()"
   ]
  },
  {
   "cell_type": "markdown",
   "metadata": {},
   "source": [
    "### Task #4: Take a look at the columns and do some EDA to familiarize yourself with the data. This will consists of you cleaning up the data set by doing things like removing stop words, tokenizing, and/or lemitizing words. "
   ]
  },
  {
   "cell_type": "code",
   "execution_count": 175,
   "metadata": {},
   "outputs": [],
   "source": [
    "movie_genre = df.copy(deep = True)"
   ]
  },
  {
   "cell_type": "code",
   "execution_count": 176,
   "metadata": {},
   "outputs": [],
   "source": [
    "movie_genre['Plot'].dropna(inplace = True)"
   ]
  },
  {
   "cell_type": "code",
   "execution_count": 177,
   "metadata": {},
   "outputs": [
    {
     "data": {
      "text/plain": [
       "(array([], dtype=int64), array([], dtype=int64))"
      ]
     },
     "execution_count": 177,
     "metadata": {},
     "output_type": "execute_result"
    }
   ],
   "source": [
    "np.where(pd.isnull(movie_genre))"
   ]
  },
  {
   "cell_type": "code",
   "execution_count": 178,
   "metadata": {},
   "outputs": [
    {
     "data": {
      "text/plain": [
       "['wasn',\n",
       " \"wasn't\",\n",
       " 'weren',\n",
       " \"weren't\",\n",
       " 'won',\n",
       " \"won't\",\n",
       " 'wouldn',\n",
       " \"wouldn't\",\n",
       " \"i'd\",\n",
       " 'say']"
      ]
     },
     "execution_count": 178,
     "metadata": {},
     "output_type": "execute_result"
    }
   ],
   "source": [
    "custom_sw = stopwords.words('english')\n",
    "custom_sw.extend([\"i'd\",\"say\"] )\n",
    "custom_sw[-10:]"
   ]
  },
  {
   "cell_type": "code",
   "execution_count": 181,
   "metadata": {},
   "outputs": [],
   "source": [
    "test = movie_genre['Plot'].iloc[0]"
   ]
  },
  {
   "cell_type": "code",
   "execution_count": 183,
   "metadata": {},
   "outputs": [
    {
     "data": {
      "text/plain": [
       "'A computer error leads to the accidental release of homicidal patient Howard Johns from a mental institution. The mute murderer returns to the scene of his original crimes.[2]'"
      ]
     },
     "execution_count": 183,
     "metadata": {},
     "output_type": "execute_result"
    }
   ],
   "source": [
    "test"
   ]
  },
  {
   "cell_type": "code",
   "execution_count": 145,
   "metadata": {},
   "outputs": [
    {
     "data": {
      "text/plain": [
       "(10682, 6)"
      ]
     },
     "execution_count": 145,
     "metadata": {},
     "output_type": "execute_result"
    }
   ],
   "source": [
    "movie_genre.shape"
   ]
  },
  {
   "cell_type": "code",
   "execution_count": null,
   "metadata": {},
   "outputs": [],
   "source": [
    "pattern = \"([a-zA-Z]+(?:'[a-z]+)?)\"\n",
    "tokenizer = RegexpTokenizer(r\"([a-zA-Z]+(?:[’'][a-z]+)?)\")"
   ]
  },
  {
   "cell_type": "code",
   "execution_count": 187,
   "metadata": {},
   "outputs": [
    {
     "ename": "SyntaxError",
     "evalue": "unexpected EOF while parsing (<ipython-input-187-6dcfccd6cae0>, line 1)",
     "output_type": "error",
     "traceback": [
      "\u001b[1;36m  File \u001b[1;32m\"<ipython-input-187-6dcfccd6cae0>\"\u001b[1;36m, line \u001b[1;32m1\u001b[0m\n\u001b[1;33m    movie_genre['Clean_Plot'] = movie_genre['Plot'].apply(tokenizer.tokenize(movie_genre['Plot'])\u001b[0m\n\u001b[1;37m                                                                                                 ^\u001b[0m\n\u001b[1;31mSyntaxError\u001b[0m\u001b[1;31m:\u001b[0m unexpected EOF while parsing\n"
     ]
    }
   ],
   "source": [
    "movie_genre['Clean_Plot'] = movie_genre['Plot'].apply(tokenizer.tokenize(movie_genre['Plot'])"
   ]
  },
  {
   "cell_type": "code",
   "execution_count": 161,
   "metadata": {},
   "outputs": [
    {
     "ename": "AttributeError",
     "evalue": "'list' object has no attribute 'lower'",
     "output_type": "error",
     "traceback": [
      "\u001b[1;31m---------------------------------------------------------------------------\u001b[0m",
      "\u001b[1;31mAttributeError\u001b[0m                            Traceback (most recent call last)",
      "\u001b[1;32m<ipython-input-161-12410eec734b>\u001b[0m in \u001b[0;36m<module>\u001b[1;34m\u001b[0m\n\u001b[1;32m----> 1\u001b[1;33m \u001b[0mmovie_genre\u001b[0m\u001b[1;33m[\u001b[0m\u001b[1;34m'Clean_Plot'\u001b[0m\u001b[1;33m]\u001b[0m \u001b[1;33m=\u001b[0m \u001b[1;33m[\u001b[0m\u001b[1;33m[\u001b[0m\u001b[0mtoken\u001b[0m\u001b[1;33m.\u001b[0m\u001b[0mlower\u001b[0m\u001b[1;33m(\u001b[0m\u001b[1;33m)\u001b[0m \u001b[1;32mfor\u001b[0m \u001b[0mtoken\u001b[0m \u001b[1;32min\u001b[0m \u001b[0mmovie_genre\u001b[0m\u001b[1;33m[\u001b[0m\u001b[1;34m'Clean_Plot'\u001b[0m\u001b[1;33m]\u001b[0m\u001b[1;33m]\u001b[0m\u001b[1;33m]\u001b[0m\u001b[1;33m\u001b[0m\u001b[1;33m\u001b[0m\u001b[0m\n\u001b[0m\u001b[0;32m      2\u001b[0m \u001b[1;31m#movie_genre['Clean_Plot'] = [token for token in movie_genre['Clean_Plot'] if token not in custom_sw]\u001b[0m\u001b[1;33m\u001b[0m\u001b[1;33m\u001b[0m\u001b[1;33m\u001b[0m\u001b[0m\n",
      "\u001b[1;32m<ipython-input-161-12410eec734b>\u001b[0m in \u001b[0;36m<listcomp>\u001b[1;34m(.0)\u001b[0m\n\u001b[1;32m----> 1\u001b[1;33m \u001b[0mmovie_genre\u001b[0m\u001b[1;33m[\u001b[0m\u001b[1;34m'Clean_Plot'\u001b[0m\u001b[1;33m]\u001b[0m \u001b[1;33m=\u001b[0m \u001b[1;33m[\u001b[0m\u001b[1;33m[\u001b[0m\u001b[0mtoken\u001b[0m\u001b[1;33m.\u001b[0m\u001b[0mlower\u001b[0m\u001b[1;33m(\u001b[0m\u001b[1;33m)\u001b[0m \u001b[1;32mfor\u001b[0m \u001b[0mtoken\u001b[0m \u001b[1;32min\u001b[0m \u001b[0mmovie_genre\u001b[0m\u001b[1;33m[\u001b[0m\u001b[1;34m'Clean_Plot'\u001b[0m\u001b[1;33m]\u001b[0m\u001b[1;33m]\u001b[0m\u001b[1;33m]\u001b[0m\u001b[1;33m\u001b[0m\u001b[1;33m\u001b[0m\u001b[0m\n\u001b[0m\u001b[0;32m      2\u001b[0m \u001b[1;31m#movie_genre['Clean_Plot'] = [token for token in movie_genre['Clean_Plot'] if token not in custom_sw]\u001b[0m\u001b[1;33m\u001b[0m\u001b[1;33m\u001b[0m\u001b[1;33m\u001b[0m\u001b[0m\n",
      "\u001b[1;31mAttributeError\u001b[0m: 'list' object has no attribute 'lower'"
     ]
    }
   ],
   "source": [
    "movie_genre['Clean_Plot'] = [token.lower() for token in first_doc]\n",
    "movie_genre['Clean_Plot'] = [token for token in first_doc if token not in custom_sw]"
   ]
  },
  {
   "cell_type": "markdown",
   "metadata": {},
   "source": [
    "### Task #5: Split the data into train & test sets:\n",
    "\n",
    "Yes we have a holdout set of the data, but you do not know the genres of that data, so you can't use it to evaluate your models. Therefore you must create your own training and test sets to evaluate your models. "
   ]
  },
  {
   "cell_type": "code",
   "execution_count": null,
   "metadata": {},
   "outputs": [],
   "source": []
  },
  {
   "cell_type": "markdown",
   "metadata": {},
   "source": [
    "### Task #6: Build a pipeline to vectorize the date, then train and fit your models.\n",
    "You should train multiple types of models and try different combinations of the tuning parameters for each model to obtain the best one. You can use the SKlearn functions of GridSearchCV and Pipeline to help automate this process.\n"
   ]
  },
  {
   "cell_type": "code",
   "execution_count": null,
   "metadata": {},
   "outputs": [],
   "source": []
  },
  {
   "cell_type": "markdown",
   "metadata": {},
   "source": [
    "### Task #7: Run predictions and analyze the results on the test set to identify the best model.  "
   ]
  },
  {
   "cell_type": "code",
   "execution_count": null,
   "metadata": {},
   "outputs": [],
   "source": []
  },
  {
   "cell_type": "markdown",
   "metadata": {},
   "source": [
    "### Task #8: Refit the model to all of your data and then use that model to predict the holdout set. "
   ]
  },
  {
   "cell_type": "code",
   "execution_count": null,
   "metadata": {},
   "outputs": [],
   "source": []
  },
  {
   "cell_type": "markdown",
   "metadata": {},
   "source": [
    "### #9: Save your predictions as a csv file that you will send to the instructional staff for evaluation. "
   ]
  },
  {
   "cell_type": "code",
   "execution_count": null,
   "metadata": {},
   "outputs": [],
   "source": []
  },
  {
   "cell_type": "markdown",
   "metadata": {},
   "source": [
    "## Great job!"
   ]
  }
 ],
 "metadata": {
  "kernelspec": {
   "display_name": "Python 3",
   "language": "python",
   "name": "python3"
  },
  "language_info": {
   "codemirror_mode": {
    "name": "ipython",
    "version": 3
   },
   "file_extension": ".py",
   "mimetype": "text/x-python",
   "name": "python",
   "nbconvert_exporter": "python",
   "pygments_lexer": "ipython3",
   "version": "3.8.5"
  }
 },
 "nbformat": 4,
 "nbformat_minor": 2
}
