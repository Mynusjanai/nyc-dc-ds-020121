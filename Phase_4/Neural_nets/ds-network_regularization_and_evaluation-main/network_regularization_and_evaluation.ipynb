{
 "cells": [
  {
   "cell_type": "markdown",
   "metadata": {
    "slideshow": {
     "slide_type": "slide"
    }
   },
   "source": [
    "# Regularization and Evaluation of Neural Networks"
   ]
  },
  {
   "cell_type": "code",
   "execution_count": 1,
   "metadata": {},
   "outputs": [],
   "source": [
    "from sklearn.datasets import load_sample_images\n",
    "from sklearn.datasets import load_digits\n",
    "from sklearn.model_selection import train_test_split, cross_val_score\n",
    "from sklearn.preprocessing import OneHotEncoder\n",
    "from sklearn.metrics import accuracy_score, confusion_matrix\n",
    "import matplotlib.pyplot as plt\n",
    "import matplotlib.image as mpimg\n",
    "import numpy as np\n",
    "import seaborn as sns\n",
    "\n",
    "from tensorflow.keras.models import Sequential\n",
    "from tensorflow.keras.layers import Dense, Dropout\n",
    "from tensorflow.keras.regularizers import l2\n",
    "from tensorflow.keras.optimizers import SGD\n",
    "from tensorflow.keras.wrappers import scikit_learn\n",
    "from tensorflow.keras.callbacks import EarlyStopping\n",
    "\n",
    "import os\n",
    "import sys\n",
    "module_path = os.path.abspath(os.path.join(os.pardir, os.pardir))\n",
    "if module_path not in sys.path:\n",
    "    sys.path.append(module_path)\n",
    "    \n",
    "%load_ext autoreload\n",
    "%autoreload 2"
   ]
  },
  {
   "cell_type": "markdown",
   "metadata": {},
   "source": [
    "## Agenda\n",
    "\n",
    "SWBAT:\n",
    "\n",
    "- use `keras` to code up a neural network model;\n",
    "- explain dropout and early stopping as distinctive forms of regularization in neural networks;\n",
    "- use wrappers inside `keras` to make models that can jibe with `sklearn`."
   ]
  },
  {
   "cell_type": "markdown",
   "metadata": {},
   "source": [
    "### From last time"
   ]
  },
  {
   "cell_type": "code",
   "execution_count": 2,
   "metadata": {},
   "outputs": [],
   "source": [
    "digits = load_digits()\n",
    "X = digits.data\n",
    "y = digits.target\n",
    "\n",
    "y_binary = y % 2"
   ]
  },
  {
   "cell_type": "code",
   "execution_count": 4,
   "metadata": {},
   "outputs": [
    {
     "name": "stdout",
     "output_type": "stream",
     "text": [
      "Epoch 1/50\n",
      "180/180 [==============================] - 0s 891us/step - loss: 0.5295 - accuracy: 0.7613\n",
      "Epoch 2/50\n",
      "180/180 [==============================] - 0s 720us/step - loss: 0.2721 - accuracy: 0.8837\n",
      "Epoch 3/50\n",
      "180/180 [==============================] - 0s 712us/step - loss: 0.1908 - accuracy: 0.9221\n",
      "Epoch 4/50\n",
      "180/180 [==============================] - 0s 738us/step - loss: 0.1509 - accuracy: 0.9460\n",
      "Epoch 5/50\n",
      "180/180 [==============================] - 0s 770us/step - loss: 0.1294 - accuracy: 0.9488\n",
      "Epoch 6/50\n",
      "180/180 [==============================] - 0s 666us/step - loss: 0.1102 - accuracy: 0.9616\n",
      "Epoch 7/50\n",
      "180/180 [==============================] - 0s 554us/step - loss: 0.0976 - accuracy: 0.9616\n",
      "Epoch 8/50\n",
      "180/180 [==============================] - 0s 643us/step - loss: 0.0910 - accuracy: 0.9694\n",
      "Epoch 9/50\n",
      "180/180 [==============================] - 0s 690us/step - loss: 0.0762 - accuracy: 0.9705\n",
      "Epoch 10/50\n",
      "180/180 [==============================] - 0s 579us/step - loss: 0.0693 - accuracy: 0.9744\n",
      "Epoch 11/50\n",
      "180/180 [==============================] - 0s 623us/step - loss: 0.0657 - accuracy: 0.9761\n",
      "Epoch 12/50\n",
      "180/180 [==============================] - 0s 639us/step - loss: 0.0570 - accuracy: 0.9772\n",
      "Epoch 13/50\n",
      "180/180 [==============================] - 0s 632us/step - loss: 0.0565 - accuracy: 0.9789\n",
      "Epoch 14/50\n",
      "180/180 [==============================] - 0s 643us/step - loss: 0.0509 - accuracy: 0.9794\n",
      "Epoch 15/50\n",
      "180/180 [==============================] - 0s 560us/step - loss: 0.0450 - accuracy: 0.9850\n",
      "Epoch 16/50\n",
      "180/180 [==============================] - 0s 549us/step - loss: 0.0432 - accuracy: 0.9844\n",
      "Epoch 17/50\n",
      "180/180 [==============================] - 0s 593us/step - loss: 0.0393 - accuracy: 0.9839\n",
      "Epoch 18/50\n",
      "180/180 [==============================] - 0s 643us/step - loss: 0.0386 - accuracy: 0.9844\n",
      "Epoch 19/50\n",
      "180/180 [==============================] - 0s 598us/step - loss: 0.0336 - accuracy: 0.9883\n",
      "Epoch 20/50\n",
      "180/180 [==============================] - 0s 620us/step - loss: 0.0319 - accuracy: 0.9878\n",
      "Epoch 21/50\n",
      "180/180 [==============================] - 0s 605us/step - loss: 0.0289 - accuracy: 0.9900\n",
      "Epoch 22/50\n",
      "180/180 [==============================] - 0s 585us/step - loss: 0.0272 - accuracy: 0.9900\n",
      "Epoch 23/50\n",
      "180/180 [==============================] - 0s 598us/step - loss: 0.0277 - accuracy: 0.9905\n",
      "Epoch 24/50\n",
      "180/180 [==============================] - 0s 587us/step - loss: 0.0233 - accuracy: 0.9922\n",
      "Epoch 25/50\n",
      "180/180 [==============================] - 0s 592us/step - loss: 0.0231 - accuracy: 0.9928\n",
      "Epoch 26/50\n",
      "180/180 [==============================] - 0s 587us/step - loss: 0.0203 - accuracy: 0.9944\n",
      "Epoch 27/50\n",
      "180/180 [==============================] - 0s 621us/step - loss: 0.0183 - accuracy: 0.9911\n",
      "Epoch 28/50\n",
      "180/180 [==============================] - 0s 604us/step - loss: 0.0160 - accuracy: 0.9939\n",
      "Epoch 29/50\n",
      "180/180 [==============================] - 0s 576us/step - loss: 0.0180 - accuracy: 0.9939\n",
      "Epoch 30/50\n",
      "180/180 [==============================] - 0s 598us/step - loss: 0.0163 - accuracy: 0.9955\n",
      "Epoch 31/50\n",
      "180/180 [==============================] - 0s 559us/step - loss: 0.0127 - accuracy: 0.9955\n",
      "Epoch 32/50\n",
      "180/180 [==============================] - 0s 605us/step - loss: 0.0142 - accuracy: 0.9950\n",
      "Epoch 33/50\n",
      "180/180 [==============================] - 0s 636us/step - loss: 0.0120 - accuracy: 0.9961\n",
      "Epoch 34/50\n",
      "180/180 [==============================] - 0s 604us/step - loss: 0.0112 - accuracy: 0.9972\n",
      "Epoch 35/50\n",
      "180/180 [==============================] - 0s 650us/step - loss: 0.0129 - accuracy: 0.9955\n",
      "Epoch 36/50\n",
      "180/180 [==============================] - 0s 648us/step - loss: 0.0130 - accuracy: 0.9961\n",
      "Epoch 37/50\n",
      "180/180 [==============================] - 0s 650us/step - loss: 0.0110 - accuracy: 0.9961\n",
      "Epoch 38/50\n",
      "180/180 [==============================] - 0s 637us/step - loss: 0.0104 - accuracy: 0.9961\n",
      "Epoch 39/50\n",
      "180/180 [==============================] - 0s 687us/step - loss: 0.0094 - accuracy: 0.9972\n",
      "Epoch 40/50\n",
      "180/180 [==============================] - 0s 685us/step - loss: 0.0100 - accuracy: 0.9967\n",
      "Epoch 41/50\n",
      "180/180 [==============================] - 0s 657us/step - loss: 0.0075 - accuracy: 0.9967\n",
      "Epoch 42/50\n",
      "180/180 [==============================] - 0s 583us/step - loss: 0.0085 - accuracy: 0.9972\n",
      "Epoch 43/50\n",
      "180/180 [==============================] - 0s 593us/step - loss: 0.0080 - accuracy: 0.9972\n",
      "Epoch 44/50\n",
      "180/180 [==============================] - 0s 598us/step - loss: 0.0083 - accuracy: 0.9978\n",
      "Epoch 45/50\n",
      "180/180 [==============================] - 0s 593us/step - loss: 0.0066 - accuracy: 0.9983\n",
      "Epoch 46/50\n",
      "180/180 [==============================] - 0s 593us/step - loss: 0.0057 - accuracy: 0.9978\n",
      "Epoch 47/50\n",
      "180/180 [==============================] - 0s 693us/step - loss: 0.0045 - accuracy: 0.9983\n",
      "Epoch 48/50\n",
      "180/180 [==============================] - 0s 748us/step - loss: 0.0054 - accuracy: 0.9978\n",
      "Epoch 49/50\n",
      "180/180 [==============================] - 0s 765us/step - loss: 0.0036 - accuracy: 0.9989\n",
      "Epoch 50/50\n",
      "180/180 [==============================] - 0s 591us/step - loss: 0.0066 - accuracy: 0.9983\n"
     ]
    },
    {
     "data": {
      "text/plain": [
       "<tensorflow.python.keras.callbacks.History at 0x27354c24880>"
      ]
     },
     "execution_count": 4,
     "metadata": {},
     "output_type": "execute_result"
    }
   ],
   "source": [
    "model = Sequential()\n",
    "model.add(Dense(12, activation='relu', input_dim=64))\n",
    "model.add(Dense(8, activation='relu'))\n",
    "model.add(Dense(1, activation='sigmoid'))\n",
    "\n",
    "model.compile(optimizer='rmsprop',\n",
    "              loss='binary_crossentropy',\n",
    "              metrics=['accuracy'])\n",
    "\n",
    "model.fit(X.astype('float32'), y_binary.astype('float32'), epochs=50, batch_size=10)"
   ]
  },
  {
   "cell_type": "markdown",
   "metadata": {},
   "source": [
    "### Things to know:\n",
    "\n",
    "- The data and labels in `fit()` need to be numpy arrays, not `pandas` dfs.\n",
    "- Scaling your data will have a large impact on your model.\n",
    "   > For our traditional input features, we would use a scaler object. For images, as long as the minimum value is 0, we can simply divide through by the maximum pixel intensity."
   ]
  },
  {
   "cell_type": "markdown",
   "metadata": {},
   "source": [
    "#### Getting data ready for modeling\n",
    "**Preprocessing**:\n",
    "\n",
    "- use train_test_split to create X_train, y_train, X_test, and y_test\n",
    "- Split training data into pure_train and validation sets.\n",
    "- Scale the pixel intensity to a value between 0 and 1."
   ]
  },
  {
   "cell_type": "markdown",
   "metadata": {},
   "source": [
    "Scaling our input variables will help speed up our neural network.\n",
    "\n",
    "Since our minimum intensity is 0, we can normalize the inputs by dividing each value by the max value (16)."
   ]
  },
  {
   "cell_type": "code",
   "execution_count": 6,
   "metadata": {},
   "outputs": [],
   "source": [
    "X_train, X_test, y_train, y_test =\\\n",
    "    train_test_split(X.astype('float32'), y_binary.astype('float32'), random_state=42, test_size=0.2)\n",
    "\n",
    "X_pure_train, X_val, y_pure_train, y_val =\\\n",
    "    train_test_split(X_train, y_train, random_state=42, test_size=0.2)\n",
    "\n",
    "X_pure_train, X_val, X_test = X_pure_train/16, X_val/16, X_test/16"
   ]
  },
  {
   "cell_type": "markdown",
   "metadata": {},
   "source": [
    "For activation, let's start with the familiar sigmoid function, and see how it performs."
   ]
  },
  {
   "cell_type": "code",
   "execution_count": 7,
   "metadata": {},
   "outputs": [
    {
     "name": "stdout",
     "output_type": "stream",
     "text": [
      "Epoch 1/10\n",
      "12/12 [==============================] - 0s 1ms/step - loss: 0.6981 - accuracy: 0.4961\n",
      "Epoch 2/10\n",
      "12/12 [==============================] - 0s 748us/step - loss: 0.6977 - accuracy: 0.4961\n",
      "Epoch 3/10\n",
      "12/12 [==============================] - 0s 914us/step - loss: 0.6974 - accuracy: 0.4961\n",
      "Epoch 4/10\n",
      "12/12 [==============================] - 0s 748us/step - loss: 0.6971 - accuracy: 0.4961\n",
      "Epoch 5/10\n",
      "12/12 [==============================] - 0s 914us/step - loss: 0.6969 - accuracy: 0.4961\n",
      "Epoch 6/10\n",
      "12/12 [==============================] - 0s 749us/step - loss: 0.6967 - accuracy: 0.4970\n",
      "Epoch 7/10\n",
      "12/12 [==============================] - 0s 748us/step - loss: 0.6965 - accuracy: 0.4970\n",
      "Epoch 8/10\n",
      "12/12 [==============================] - 0s 833us/step - loss: 0.6963 - accuracy: 0.5057\n",
      "Epoch 9/10\n",
      "12/12 [==============================] - 0s 914us/step - loss: 0.6962 - accuracy: 0.5117\n",
      "Epoch 10/10\n",
      "12/12 [==============================] - 0s 996us/step - loss: 0.6960 - accuracy: 0.5065\n"
     ]
    }
   ],
   "source": [
    "model = Sequential()\n",
    "# We will start with our trusty sigmoid function.\n",
    "# What does input dimension correspond to?\n",
    "model.add(Dense(12, activation='sigmoid', input_dim=64))\n",
    "model.add(Dense(8, activation='sigmoid'))\n",
    "model.add(Dense(1, activation='sigmoid'))\n",
    "\n",
    "model.compile(optimizer='SGD' ,\n",
    "              # We use binary_crossentropy for a binary loss function\n",
    "              loss='binary_crossentropy',\n",
    "              metrics=['accuracy'])\n",
    "\n",
    "# Assign the variable history to store the results,\n",
    "# and set verbose=1 so we can see the output. To see\n",
    "# only the metrics at the end of each epoch, set verbose=2.\n",
    "results = model.fit(X_pure_train, y_pure_train, epochs=10, batch_size=100, verbose=1)"
   ]
  },
  {
   "cell_type": "markdown",
   "metadata": {},
   "source": [
    "We can access the history of our model via `results.history`.\n",
    "Use __dict__ to take a tour."
   ]
  },
  {
   "cell_type": "code",
   "execution_count": 8,
   "metadata": {},
   "outputs": [
    {
     "data": {
      "text/plain": [
       "{'validation_data': None,\n",
       " 'model': <tensorflow.python.keras.engine.sequential.Sequential at 0x2735607cd00>,\n",
       " '_chief_worker_only': None,\n",
       " '_supports_tf_logs': False,\n",
       " 'history': {'loss': [0.6981165409088135,\n",
       "   0.6977197527885437,\n",
       "   0.6973809599876404,\n",
       "   0.6970971822738647,\n",
       "   0.6968902945518494,\n",
       "   0.6966598629951477,\n",
       "   0.6964865922927856,\n",
       "   0.6962866187095642,\n",
       "   0.6961854696273804,\n",
       "   0.6960277557373047],\n",
       "  'accuracy': [0.4960835576057434,\n",
       "   0.4960835576057434,\n",
       "   0.4960835576057434,\n",
       "   0.4960835576057434,\n",
       "   0.4960835576057434,\n",
       "   0.4969538748264313,\n",
       "   0.4969538748264313,\n",
       "   0.5056570768356323,\n",
       "   0.5117493271827698,\n",
       "   0.5065274238586426]},\n",
       " 'params': {'verbose': 1, 'epochs': 10, 'steps': 12},\n",
       " 'epoch': [0, 1, 2, 3, 4, 5, 6, 7, 8, 9]}"
      ]
     },
     "execution_count": 8,
     "metadata": {},
     "output_type": "execute_result"
    }
   ],
   "source": [
    "results.__dict__"
   ]
  },
  {
   "cell_type": "code",
   "execution_count": 9,
   "metadata": {},
   "outputs": [
    {
     "data": {
      "image/png": "[encoded data removed]",
      "text/plain": [
       "<Figure size 720x360 with 2 Axes>"
      ]
     },
     "metadata": {
      "needs_background": "light"
     },
     "output_type": "display_data"
    }
   ],
   "source": [
    "sigmoid_loss = results.history['loss']\n",
    "sigmoid_accuracy = results.history['accuracy']\n",
    "\n",
    "fig, (ax1, ax2) = plt.subplots(1, 2, figsize=(10, 5))\n",
    "sns.lineplot(x=results.epoch, y=results.history['loss'], ax=ax1, label='loss')\n",
    "sns.lineplot(x=results.epoch, y=results.history['accuracy'], ax=ax2, label='accuracy');"
   ]
  },
  {
   "cell_type": "markdown",
   "metadata": {},
   "source": [
    "We have two plots above both relating to the quality fo our model.  The left-hand plot is our loss. It uses the probabilities associated with our predictions to judge how well our prediction fits reality. We want it to decrease as far as possible.\n",
    "\n",
    "The accuracy judges how well the predictions are after applying the threshold at the output layer.  We want accuracy to increase."
   ]
  },
  {
   "cell_type": "markdown",
   "metadata": {},
   "source": [
    "If we look at our loss, it is still decreasing. That is a signal that our model is **still learning**. If our model is still learning, we can allow it to get better by turning a few dials.\n",
    "\n",
    "Let's:\n",
    "- increase the number of epochs;\n",
    "- change sigmoid activation in the hidden layers to ReLU; and\n",
    "- decrease the batch size."
   ]
  },
  {
   "cell_type": "code",
   "execution_count": 10,
   "metadata": {},
   "outputs": [
    {
     "name": "stdout",
     "output_type": "stream",
     "text": [
      "Epoch 1/100\n",
      "36/36 [==============================] - 0s 665us/step - loss: 0.6812 - accuracy: 0.4926\n",
      "Epoch 2/100\n",
      "36/36 [==============================] - 0s 637us/step - loss: 0.6722 - accuracy: 0.5292\n",
      "Epoch 3/100\n",
      "36/36 [==============================] - 0s 720us/step - loss: 0.6667 - accuracy: 0.5918\n",
      "Epoch 4/100\n",
      "36/36 [==============================] - 0s 689us/step - loss: 0.6623 - accuracy: 0.6345\n",
      "Epoch 5/100\n",
      "36/36 [==============================] - 0s 665us/step - loss: 0.6579 - accuracy: 0.6719\n",
      "Epoch 6/100\n",
      "36/36 [==============================] - 0s 596us/step - loss: 0.6532 - accuracy: 0.7006\n",
      "Epoch 7/100\n",
      "36/36 [==============================] - 0s 720us/step - loss: 0.6479 - accuracy: 0.7241\n",
      "Epoch 8/100\n",
      "36/36 [==============================] - 0s 665us/step - loss: 0.6423 - accuracy: 0.7276\n",
      "Epoch 9/100\n",
      "36/36 [==============================] - 0s 693us/step - loss: 0.6360 - accuracy: 0.7581\n",
      "Epoch 10/100\n",
      "36/36 [==============================] - 0s 845us/step - loss: 0.6292 - accuracy: 0.7711\n",
      "Epoch 11/100\n",
      "36/36 [==============================] - 0s 748us/step - loss: 0.6215 - accuracy: 0.7842\n",
      "Epoch 12/100\n",
      "36/36 [==============================] - 0s 748us/step - loss: 0.6128 - accuracy: 0.7885\n",
      "Epoch 13/100\n",
      "36/36 [==============================] - 0s 610us/step - loss: 0.6032 - accuracy: 0.8033\n",
      "Epoch 14/100\n",
      "36/36 [==============================] - 0s 693us/step - loss: 0.5923 - accuracy: 0.8120\n",
      "Epoch 15/100\n",
      "36/36 [==============================] - 0s 637us/step - loss: 0.5803 - accuracy: 0.8207\n",
      "Epoch 16/100\n",
      "36/36 [==============================] - 0s 609us/step - loss: 0.5668 - accuracy: 0.8320\n",
      "Epoch 17/100\n",
      "36/36 [==============================] - 0s 693us/step - loss: 0.5517 - accuracy: 0.8338\n",
      "Epoch 18/100\n",
      "36/36 [==============================] - 0s 693us/step - loss: 0.5350 - accuracy: 0.8442\n",
      "Epoch 19/100\n",
      "36/36 [==============================] - 0s 637us/step - loss: 0.5164 - accuracy: 0.8503\n",
      "Epoch 20/100\n",
      "36/36 [==============================] - 0s 665us/step - loss: 0.4964 - accuracy: 0.8529\n",
      "Epoch 21/100\n",
      "36/36 [==============================] - 0s 609us/step - loss: 0.4751 - accuracy: 0.8651\n",
      "Epoch 22/100\n",
      "36/36 [==============================] - 0s 748us/step - loss: 0.4528 - accuracy: 0.8634\n",
      "Epoch 23/100\n",
      "36/36 [==============================] - 0s 831us/step - loss: 0.4304 - accuracy: 0.8668\n",
      "Epoch 24/100\n",
      "36/36 [==============================] - 0s 776us/step - loss: 0.4082 - accuracy: 0.8773\n",
      "Epoch 25/100\n",
      "36/36 [==============================] - 0s 803us/step - loss: 0.3871 - accuracy: 0.8764\n",
      "Epoch 26/100\n",
      "36/36 [==============================] - 0s 831us/step - loss: 0.3675 - accuracy: 0.8790\n",
      "Epoch 27/100\n",
      "36/36 [==============================] - 0s 748us/step - loss: 0.3499 - accuracy: 0.8808\n",
      "Epoch 28/100\n",
      "36/36 [==============================] - 0s 822us/step - loss: 0.3339 - accuracy: 0.8825\n",
      "Epoch 29/100\n",
      "36/36 [==============================] - 0s 610us/step - loss: 0.3202 - accuracy: 0.8877\n",
      "Epoch 30/100\n",
      "36/36 [==============================] - 0s 637us/step - loss: 0.3070 - accuracy: 0.8869\n",
      "Epoch 31/100\n",
      "36/36 [==============================] - 0s 720us/step - loss: 0.2959 - accuracy: 0.8912\n",
      "Epoch 32/100\n",
      "36/36 [==============================] - 0s 1ms/step - loss: 0.2855 - accuracy: 0.8938\n",
      "Epoch 33/100\n",
      "36/36 [==============================] - 0s 637us/step - loss: 0.2760 - accuracy: 0.8921\n",
      "Epoch 34/100\n",
      "36/36 [==============================] - 0s 748us/step - loss: 0.2681 - accuracy: 0.8982\n",
      "Epoch 35/100\n",
      "36/36 [==============================] - 0s 776us/step - loss: 0.2607 - accuracy: 0.8964\n",
      "Epoch 36/100\n",
      "36/36 [==============================] - 0s 665us/step - loss: 0.2530 - accuracy: 0.8999\n",
      "Epoch 37/100\n",
      "36/36 [==============================] - 0s 637us/step - loss: 0.2474 - accuracy: 0.9043\n",
      "Epoch 38/100\n",
      "36/36 [==============================] - 0s 693us/step - loss: 0.2407 - accuracy: 0.9051\n",
      "Epoch 39/100\n",
      "36/36 [==============================] - 0s 609us/step - loss: 0.2350 - accuracy: 0.9086\n",
      "Epoch 40/100\n",
      "36/36 [==============================] - 0s 665us/step - loss: 0.2308 - accuracy: 0.9060\n",
      "Epoch 41/100\n",
      "36/36 [==============================] - 0s 665us/step - loss: 0.2250 - accuracy: 0.9069\n",
      "Epoch 42/100\n",
      "36/36 [==============================] - 0s 637us/step - loss: 0.2213 - accuracy: 0.9086\n",
      "Epoch 43/100\n",
      "36/36 [==============================] - 0s 665us/step - loss: 0.2168 - accuracy: 0.9104\n",
      "Epoch 44/100\n",
      "36/36 [==============================] - 0s 609us/step - loss: 0.2123 - accuracy: 0.9138\n",
      "Epoch 45/100\n",
      "36/36 [==============================] - 0s 720us/step - loss: 0.2082 - accuracy: 0.9164\n",
      "Epoch 46/100\n",
      "36/36 [==============================] - 0s 637us/step - loss: 0.2054 - accuracy: 0.9147\n",
      "Epoch 47/100\n",
      "36/36 [==============================] - 0s 665us/step - loss: 0.2014 - accuracy: 0.9173\n",
      "Epoch 48/100\n",
      "36/36 [==============================] - 0s 702us/step - loss: 0.1976 - accuracy: 0.9191\n",
      "Epoch 49/100\n",
      "36/36 [==============================] - 0s 665us/step - loss: 0.1956 - accuracy: 0.9182\n",
      "Epoch 50/100\n",
      "36/36 [==============================] - 0s 638us/step - loss: 0.1922 - accuracy: 0.9208\n",
      "Epoch 51/100\n",
      "36/36 [==============================] - 0s 665us/step - loss: 0.1899 - accuracy: 0.9208\n",
      "Epoch 52/100\n",
      "36/36 [==============================] - 0s 665us/step - loss: 0.1877 - accuracy: 0.9191\n",
      "Epoch 53/100\n",
      "36/36 [==============================] - 0s 776us/step - loss: 0.1852 - accuracy: 0.9191\n",
      "Epoch 54/100\n",
      "36/36 [==============================] - 0s 665us/step - loss: 0.1823 - accuracy: 0.9208\n",
      "Epoch 55/100\n",
      "36/36 [==============================] - 0s 665us/step - loss: 0.1799 - accuracy: 0.9243\n",
      "Epoch 56/100\n",
      "36/36 [==============================] - 0s 748us/step - loss: 0.1775 - accuracy: 0.9243\n",
      "Epoch 57/100\n",
      "36/36 [==============================] - 0s 665us/step - loss: 0.1754 - accuracy: 0.9243\n",
      "Epoch 58/100\n",
      "36/36 [==============================] - 0s 693us/step - loss: 0.1732 - accuracy: 0.9278\n",
      "Epoch 59/100\n",
      "36/36 [==============================] - 0s 791us/step - loss: 0.1712 - accuracy: 0.9252\n",
      "Epoch 60/100\n",
      "36/36 [==============================] - 0s 776us/step - loss: 0.1690 - accuracy: 0.9278\n",
      "Epoch 61/100\n",
      "36/36 [==============================] - 0s 665us/step - loss: 0.1674 - accuracy: 0.9243\n",
      "Epoch 62/100\n",
      "36/36 [==============================] - 0s 821us/step - loss: 0.1646 - accuracy: 0.9295\n",
      "Epoch 63/100\n",
      "36/36 [==============================] - 0s 831us/step - loss: 0.1625 - accuracy: 0.9330\n",
      "Epoch 64/100\n",
      "36/36 [==============================] - 0s 914us/step - loss: 0.1615 - accuracy: 0.9330\n",
      "Epoch 65/100\n",
      "36/36 [==============================] - 0s 815us/step - loss: 0.1596 - accuracy: 0.9312\n",
      "Epoch 66/100\n",
      "36/36 [==============================] - 0s 803us/step - loss: 0.1573 - accuracy: 0.9321\n",
      "Epoch 67/100\n",
      "36/36 [==============================] - 0s 803us/step - loss: 0.1571 - accuracy: 0.9373\n",
      "Epoch 68/100\n",
      "36/36 [==============================] - 0s 803us/step - loss: 0.1542 - accuracy: 0.9365\n",
      "Epoch 69/100\n",
      "36/36 [==============================] - 0s 886us/step - loss: 0.1526 - accuracy: 0.9391\n",
      "Epoch 70/100\n",
      "36/36 [==============================] - 0s 831us/step - loss: 0.1503 - accuracy: 0.9382\n",
      "Epoch 71/100\n",
      "36/36 [==============================] - 0s 803us/step - loss: 0.1494 - accuracy: 0.9339\n",
      "Epoch 72/100\n",
      "36/36 [==============================] - 0s 942us/step - loss: 0.1471 - accuracy: 0.9356\n",
      "Epoch 73/100\n",
      "36/36 [==============================] - 0s 748us/step - loss: 0.1445 - accuracy: 0.9391\n",
      "Epoch 74/100\n",
      "36/36 [==============================] - 0s 609us/step - loss: 0.1434 - accuracy: 0.9399\n",
      "Epoch 75/100\n",
      "36/36 [==============================] - 0s 637us/step - loss: 0.1436 - accuracy: 0.9399\n",
      "Epoch 76/100\n",
      "36/36 [==============================] - 0s 637us/step - loss: 0.1418 - accuracy: 0.9382\n",
      "Epoch 77/100\n",
      "36/36 [==============================] - 0s 693us/step - loss: 0.1399 - accuracy: 0.9382\n",
      "Epoch 78/100\n",
      "36/36 [==============================] - 0s 665us/step - loss: 0.1388 - accuracy: 0.9399\n",
      "Epoch 79/100\n",
      "36/36 [==============================] - 0s 748us/step - loss: 0.1368 - accuracy: 0.9426\n",
      "Epoch 80/100\n",
      "36/36 [==============================] - 0s 637us/step - loss: 0.1356 - accuracy: 0.9460\n",
      "Epoch 81/100\n"
     ]
    },
    {
     "name": "stdout",
     "output_type": "stream",
     "text": [
      "36/36 [==============================] - 0s 665us/step - loss: 0.1347 - accuracy: 0.9408\n",
      "Epoch 82/100\n",
      "36/36 [==============================] - 0s 609us/step - loss: 0.1333 - accuracy: 0.9460\n",
      "Epoch 83/100\n",
      "36/36 [==============================] - 0s 665us/step - loss: 0.1318 - accuracy: 0.9443\n",
      "Epoch 84/100\n",
      "36/36 [==============================] - 0s 637us/step - loss: 0.1307 - accuracy: 0.9452\n",
      "Epoch 85/100\n",
      "36/36 [==============================] - 0s 582us/step - loss: 0.1296 - accuracy: 0.9434\n",
      "Epoch 86/100\n",
      "36/36 [==============================] - 0s 609us/step - loss: 0.1275 - accuracy: 0.9443\n",
      "Epoch 87/100\n",
      "36/36 [==============================] - 0s 609us/step - loss: 0.1263 - accuracy: 0.9478\n",
      "Epoch 88/100\n",
      "36/36 [==============================] - 0s 526us/step - loss: 0.1249 - accuracy: 0.9469\n",
      "Epoch 89/100\n",
      "36/36 [==============================] - 0s 554us/step - loss: 0.1242 - accuracy: 0.9469\n",
      "Epoch 90/100\n",
      "36/36 [==============================] - 0s 637us/step - loss: 0.1223 - accuracy: 0.9460\n",
      "Epoch 91/100\n",
      "36/36 [==============================] - 0s 582us/step - loss: 0.1211 - accuracy: 0.9495\n",
      "Epoch 92/100\n",
      "36/36 [==============================] - 0s 610us/step - loss: 0.1206 - accuracy: 0.9487\n",
      "Epoch 93/100\n",
      "36/36 [==============================] - 0s 554us/step - loss: 0.1192 - accuracy: 0.9504\n",
      "Epoch 94/100\n",
      "36/36 [==============================] - 0s 609us/step - loss: 0.1178 - accuracy: 0.9478\n",
      "Epoch 95/100\n",
      "36/36 [==============================] - 0s 693us/step - loss: 0.1169 - accuracy: 0.9504\n",
      "Epoch 96/100\n",
      "36/36 [==============================] - 0s 665us/step - loss: 0.1153 - accuracy: 0.9513\n",
      "Epoch 97/100\n",
      "36/36 [==============================] - 0s 609us/step - loss: 0.1147 - accuracy: 0.9539\n",
      "Epoch 98/100\n",
      "36/36 [==============================] - 0s 637us/step - loss: 0.1133 - accuracy: 0.9469\n",
      "Epoch 99/100\n",
      "36/36 [==============================] - 0s 609us/step - loss: 0.1126 - accuracy: 0.9513\n",
      "Epoch 100/100\n",
      "36/36 [==============================] - 0s 609us/step - loss: 0.1116 - accuracy: 0.9539\n"
     ]
    }
   ],
   "source": [
    "model = Sequential()\n",
    "model.add(Dense(12, activation='relu', input_dim=64))\n",
    "model.add(Dense(8, activation='relu'))\n",
    "model.add(Dense(1, activation='sigmoid'))\n",
    "\n",
    "model.compile(optimizer='SGD',\n",
    "              loss='binary_crossentropy',\n",
    "              metrics=['accuracy'])\n",
    "\n",
    "# Assign the variable history to store the results,\n",
    "# and set verbose=1 so we can see the output.\n",
    "results = model.fit(X_pure_train, y_pure_train, epochs=100, batch_size=32, verbose=1)"
   ]
  },
  {
   "cell_type": "code",
   "execution_count": 11,
   "metadata": {},
   "outputs": [
    {
     "data": {
      "image/png": "[encoded data removed]",
      "text/plain": [
       "<Figure size 720x360 with 2 Axes>"
      ]
     },
     "metadata": {
      "needs_background": "light"
     },
     "output_type": "display_data"
    }
   ],
   "source": [
    "sigmoid_loss = results.history['loss']\n",
    "sigmoid_accuracy = results.history['accuracy']\n",
    "\n",
    "fig, (ax1, ax2) = plt.subplots(1,2, figsize=(10,5))\n",
    "sns.lineplot(x=results.epoch, y=sigmoid_loss, ax=ax1, label='loss')\n",
    "sns.lineplot(x=results.epoch, y=sigmoid_accuracy, ax=ax2, label='accuracy');"
   ]
  },
  {
   "cell_type": "markdown",
   "metadata": {},
   "source": [
    "If we increase the learning rate to a very high number, we see that our model overshoots the minimum, and starts bouncing all around."
   ]
  },
  {
   "cell_type": "code",
   "execution_count": 12,
   "metadata": {},
   "outputs": [
    {
     "name": "stdout",
     "output_type": "stream",
     "text": [
      "Epoch 1/30\n",
      "115/115 [==============================] - 0s 722us/step - loss: 1.5182 - accuracy: 0.5161\n",
      "Epoch 2/30\n",
      "115/115 [==============================] - 0s 764us/step - loss: 1.0629 - accuracy: 0.4848\n",
      "Epoch 3/30\n",
      "115/115 [==============================] - 0s 710us/step - loss: 1.0228 - accuracy: 0.5004\n",
      "Epoch 4/30\n",
      "115/115 [==============================] - 0s 744us/step - loss: 0.9935 - accuracy: 0.4952\n",
      "Epoch 5/30\n",
      "115/115 [==============================] - 0s 716us/step - loss: 1.0288 - accuracy: 0.4970\n",
      "Epoch 6/30\n",
      "115/115 [==============================] - 0s 694us/step - loss: 1.0277 - accuracy: 0.4787\n",
      "Epoch 7/30\n",
      "115/115 [==============================] - 0s 668us/step - loss: 1.0002 - accuracy: 0.5117\n",
      "Epoch 8/30\n",
      "115/115 [==============================] - 0s 644us/step - loss: 0.9871 - accuracy: 0.5013\n",
      "Epoch 9/30\n",
      "115/115 [==============================] - 0s 664us/step - loss: 1.0909 - accuracy: 0.4778\n",
      "Epoch 10/30\n",
      "115/115 [==============================] - 0s 798us/step - loss: 1.0242 - accuracy: 0.4804\n",
      "Epoch 11/30\n",
      "115/115 [==============================] - 0s 717us/step - loss: 1.0539 - accuracy: 0.4952\n",
      "Epoch 12/30\n",
      "115/115 [==============================] - 0s 642us/step - loss: 1.0209 - accuracy: 0.4909\n",
      "Epoch 13/30\n",
      "115/115 [==============================] - 0s 616us/step - loss: 1.0300 - accuracy: 0.4900\n",
      "Epoch 14/30\n",
      "115/115 [==============================] - 0s 581us/step - loss: 1.0685 - accuracy: 0.4900\n",
      "Epoch 15/30\n",
      "115/115 [==============================] - 0s 555us/step - loss: 1.0033 - accuracy: 0.4883\n",
      "Epoch 16/30\n",
      "115/115 [==============================] - 0s 607us/step - loss: 1.0361 - accuracy: 0.4996\n",
      "Epoch 17/30\n",
      "115/115 [==============================] - 0s 607us/step - loss: 0.9592 - accuracy: 0.5144\n",
      "Epoch 18/30\n",
      "115/115 [==============================] - 0s 555us/step - loss: 1.0816 - accuracy: 0.4708\n",
      "Epoch 19/30\n",
      "115/115 [==============================] - 0s 555us/step - loss: 1.0078 - accuracy: 0.5022\n",
      "Epoch 20/30\n",
      "115/115 [==============================] - 0s 564us/step - loss: 0.9066 - accuracy: 0.5030\n",
      "Epoch 21/30\n",
      "115/115 [==============================] - 0s 555us/step - loss: 0.9496 - accuracy: 0.5065\n",
      "Epoch 22/30\n",
      "115/115 [==============================] - 0s 546us/step - loss: 1.0101 - accuracy: 0.4952\n",
      "Epoch 23/30\n",
      "115/115 [==============================] - 0s 555us/step - loss: 1.0075 - accuracy: 0.4883\n",
      "Epoch 24/30\n",
      "115/115 [==============================] - 0s 659us/step - loss: 1.0524 - accuracy: 0.4822\n",
      "Epoch 25/30\n",
      "115/115 [==============================] - 0s 642us/step - loss: 0.9712 - accuracy: 0.5074\n",
      "Epoch 26/30\n",
      "115/115 [==============================] - 0s 642us/step - loss: 1.0411 - accuracy: 0.4987\n",
      "Epoch 27/30\n",
      "115/115 [==============================] - 0s 607us/step - loss: 0.8975 - accuracy: 0.5318\n",
      "Epoch 28/30\n",
      "115/115 [==============================] - 0s 589us/step - loss: 1.1359 - accuracy: 0.4639\n",
      "Epoch 29/30\n",
      "115/115 [==============================] - 0s 562us/step - loss: 0.9528 - accuracy: 0.5152\n",
      "Epoch 30/30\n",
      "115/115 [==============================] - 0s 581us/step - loss: 0.9867 - accuracy: 0.5013\n"
     ]
    },
    {
     "data": {
      "image/png": "[encoded data removed]",
      "text/plain": [
       "<Figure size 720x360 with 2 Axes>"
      ]
     },
     "metadata": {
      "needs_background": "light"
     },
     "output_type": "display_data"
    }
   ],
   "source": [
    "model = Sequential()\n",
    "\n",
    "sgd = SGD(lr=9)\n",
    "model.add(Dense(12, activation='relu', input_dim=64))\n",
    "model.add(Dense(8, activation='relu'))\n",
    "model.add(Dense(1, activation='sigmoid'))\n",
    "\n",
    "model.compile(optimizer=sgd,\n",
    "              loss='binary_crossentropy',\n",
    "              metrics=['accuracy'])\n",
    "\n",
    "results = model.fit(X_pure_train, y_pure_train,\n",
    "                    epochs=30, batch_size=10, verbose=1)\n",
    "\n",
    "relu_loss = results.history['loss']\n",
    "relu_accuracy = results.history['accuracy']\n",
    "\n",
    "fig, (ax1, ax2) = plt.subplots(1,2, figsize=(10,5))\n",
    "sns.lineplot(x=results.epoch, y=relu_loss, ax=ax1, label='loss')\n",
    "sns.lineplot(x=results.epoch, y=relu_accuracy, ax=ax2, label='accuracy');"
   ]
  },
  {
   "cell_type": "markdown",
   "metadata": {},
   "source": [
    "### Exercise\n",
    "\n",
    "We have been looking only at our training set. Let's add in our validation set to the picture. Check the docstring for the `.fit()` method and add in our validation data."
   ]
  },
  {
   "cell_type": "code",
   "execution_count": null,
   "metadata": {},
   "outputs": [],
   "source": [
    "model = Sequential()\n",
    "model.add(Dense(12, activation='relu', input_dim=64))\n",
    "model.add(Dense(8, activation='relu'))\n",
    "model.add(Dense(4, activation='relu'))\n",
    "model.add(Dense(1, activation='sigmoid'))\n",
    "\n",
    "model.compile(optimizer='adam',\n",
    "              loss='binary_crossentropy',\n",
    "              metrics=['accuracy'])\n",
    "\n",
    "\n",
    "## YOUR CODE HERE\n",
    "\n",
    "\n",
    "train_loss = results.history['loss']\n",
    "train_acc = results.history['accuracy']\n",
    "val_loss = results.history['val_loss']\n",
    "val_acc = results.history['val_accuracy']\n",
    "\n",
    "fig, (ax1, ax2) = plt.subplots(1, 2, figsize=(10, 5))\n",
    "sns.lineplot(results.epoch, train_loss, ax=ax1, label='train_loss')\n",
    "sns.lineplot(results.epoch, train_acc, ax=ax2, label='train_accuracy')\n",
    "\n",
    "sns.lineplot(results.epoch, val_loss, ax=ax1, label='val_loss')\n",
    "sns.lineplot(results.epoch, val_acc, ax=ax2, label='val_accuracy');"
   ]
  },
  {
   "cell_type": "code",
   "execution_count": null,
   "metadata": {},
   "outputs": [],
   "source": [
    "results.history['val_accuracy'][-1]"
   ]
  },
  {
   "cell_type": "markdown",
   "metadata": {},
   "source": [
    "## Connecting with `sklearn`\n",
    "\n",
    "The `keras.wrappers` submodule means that we can turn `keras` models into estimators that `sklearn` tools will recognize."
   ]
  },
  {
   "cell_type": "code",
   "execution_count": null,
   "metadata": {},
   "outputs": [],
   "source": [
    "# This will throw an error.\n",
    "\n",
    "cross_val_score(model, X_pure_train, y_pure_train)"
   ]
  },
  {
   "cell_type": "code",
   "execution_count": null,
   "metadata": {},
   "outputs": [],
   "source": [
    "def build_model():\n",
    "    model = Sequential()\n",
    "    model.add(Dense(12, activation='relu', input_dim=64))\n",
    "    model.add(Dense(8, activation='relu'))\n",
    "    model.add(Dense(4, activation='relu'))\n",
    "    model.add(Dense(1, activation = 'sigmoid'))\n",
    "\n",
    "    model.compile(optimizer='adam',\n",
    "                  loss='binary_crossentropy',\n",
    "                  metrics=['accuracy'])\n",
    "    return model"
   ]
  },
  {
   "cell_type": "code",
   "execution_count": null,
   "metadata": {},
   "outputs": [],
   "source": [
    "keras_model = scikit_learn.KerasClassifier(build_model,\n",
    "                                          epochs=50,\n",
    "                                          batch_size=32,\n",
    "                                          verbose=2)"
   ]
  },
  {
   "cell_type": "code",
   "execution_count": null,
   "metadata": {},
   "outputs": [],
   "source": [
    "type(keras_model)"
   ]
  },
  {
   "cell_type": "code",
   "execution_count": null,
   "metadata": {},
   "outputs": [],
   "source": [
    "cross_val_score(keras_model, X_pure_train, y_pure_train)"
   ]
  },
  {
   "cell_type": "markdown",
   "metadata": {},
   "source": [
    "## Regularization"
   ]
  },
  {
   "cell_type": "markdown",
   "metadata": {},
   "source": [
    "Does regularization make sense in the context of neural networks? <br/>\n",
    "\n",
    "Yes! We still have all of the salient ingredients: a loss function, overfitting vs. underfitting, and coefficients (weights) that could get too large.\n",
    "\n",
    "But there are now a few different flavors besides L1 and L2 regularization. (Note that L1 regularization is not common in the context of  neural networks.)\n",
    "\n",
    "We'll add a few more layers to give regularization a better chance of making a difference!"
   ]
  },
  {
   "cell_type": "code",
   "execution_count": null,
   "metadata": {},
   "outputs": [],
   "source": [
    "model = Sequential()\n",
    "model.add(Dense(30, activation='relu', input_dim=64))\n",
    "\n",
    "# We can add L2 (or L1) regularization right into\n",
    "# the layer with the kernel_regularizer parameter.\n",
    "\n",
    "model.add(Dense(20, activation='relu',\n",
    "                kernel_regularizer=l2(l2=0.05)))\n",
    "\n",
    "# Note that there is also a bias_regularizer,\n",
    "# but this tends to have less effect.\n",
    "\n",
    "model.add(Dense(12, activation='relu'))\n",
    "model.add(Dense(12, activation='relu'))\n",
    "model.add(Dense(12, activation='relu'))\n",
    "model.add(Dense(8, activation='relu'))\n",
    "model.add(Dense(4, activation='relu'))\n",
    "model.add(Dense(1, activation ='sigmoid'))\n",
    "\n",
    "model.compile(optimizer='adam',\n",
    "              loss='binary_crossentropy',\n",
    "              metrics=['accuracy'])\n",
    "\n",
    "results = model.fit(X_pure_train, y_pure_train, epochs=20, batch_size=32,\n",
    "                    verbose=0, validation_data=(X_val, y_val))\n",
    "\n",
    "train_loss = results.history['loss']\n",
    "train_acc = results.history['accuracy']\n",
    "val_loss = results.history['val_loss']\n",
    "val_acc = results.history['val_accuracy']\n",
    "\n",
    "\n",
    "fig, (ax1, ax2) = plt.subplots(1, 2, figsize=(10, 5))\n",
    "sns.lineplot(x=results.epoch, y=train_loss, ax=ax1, label='train_loss')\n",
    "sns.lineplot(x=results.epoch, y=train_acc, ax=ax2, label='train_accuracy')\n",
    "\n",
    "sns.lineplot(x=results.epoch, y=val_loss, ax=ax1, label='val_loss')\n",
    "sns.lineplot(x=results.epoch, y=val_acc, ax=ax2, label='val_accuracy');"
   ]
  },
  {
   "cell_type": "markdown",
   "metadata": {},
   "source": [
    "Adding L2 to multiple layers:"
   ]
  },
  {
   "cell_type": "code",
   "execution_count": null,
   "metadata": {},
   "outputs": [],
   "source": [
    "model = Sequential()\n",
    "model.add(Dense(30, activation='relu',\n",
    "                input_dim=64))\n",
    "model.add(Dense(20, activation='relu',\n",
    "                kernel_regularizer=l2(l2=0.01)))\n",
    "\n",
    "model.add(Dense(12, activation='relu',\n",
    "                kernel_regularizer=l2(l2=0.01)))\n",
    "model.add(Dense(12, activation='relu',\n",
    "                kernel_regularizer=l2(l2=0.01)))\n",
    "model.add(Dense(12, activation='relu',\n",
    "                kernel_regularizer=l2(l2=0.01)))\n",
    "model.add(Dense(8, activation='relu',\n",
    "                kernel_regularizer=l2(l2=0.01)))\n",
    "model.add(Dense(4, activation='relu',\n",
    "                kernel_regularizer=l2(l2=0.01)))\n",
    "model.add(Dense(1, activation='sigmoid'))\n",
    "\n",
    "model.compile(optimizer='adam',\n",
    "              loss='binary_crossentropy',\n",
    "              metrics=['accuracy'])\n",
    "\n",
    "results = model.fit(X_pure_train, y_pure_train, epochs=20, batch_size=32,\n",
    "                    verbose=0, validation_data=(X_val, y_val))\n",
    "\n",
    "train_loss = results.history['loss']\n",
    "train_acc = results.history['accuracy']\n",
    "val_loss = results.history['val_loss']\n",
    "val_acc = results.history['val_accuracy']\n",
    "\n",
    "\n",
    "fig, (ax1, ax2) = plt.subplots(1, 2, figsize=(10, 5))\n",
    "sns.lineplot(x=results.epoch, y=train_loss, ax=ax1, label='train_loss')\n",
    "sns.lineplot(x=results.epoch, y=train_acc, ax=ax2, label='train_accuracy')\n",
    "\n",
    "sns.lineplot(x=results.epoch, y=val_loss, ax=ax1, label='val_loss')\n",
    "sns.lineplot(x=results.epoch, y=val_acc, ax=ax2, label='val_accuracy');"
   ]
  },
  {
   "cell_type": "markdown",
   "metadata": {},
   "source": [
    "### Dropout\n",
    "\n",
    "We can also specify a dropout layer in keras, which randomly shuts off different nodes during training. This can help to prevent overfitting.\n",
    "\n",
    "![drop_out](img/drop_out.png)"
   ]
  },
  {
   "cell_type": "markdown",
   "metadata": {},
   "source": [
    "### Exercise\n",
    "\n",
    "To add dropout to a `keras` network, simply add it as though it were a layer. It will apply to the immediately preceding layer.\n",
    "\n",
    "Add Dropout to one or more layers below."
   ]
  },
  {
   "cell_type": "code",
   "execution_count": null,
   "metadata": {},
   "outputs": [],
   "source": [
    "model = Sequential()\n",
    "model.add(Dense(30, activation='relu', input_dim=64))\n",
    "model.add(Dense(20, activation='relu'))\n",
    "model.add(Dense(12, activation='relu'))\n",
    "model.add(Dense(12, activation='relu'))\n",
    "model.add(Dense(12, activation='relu'))\n",
    "model.add(Dense(8, activation='relu'))\n",
    "model.add(Dense(4, activation='relu'))\n",
    "model.add(Dense(1, activation ='sigmoid'))\n",
    "\n",
    "model.compile(optimizer='adam',\n",
    "              loss='binary_crossentropy',\n",
    "              metrics=['accuracy'])\n",
    "\n",
    "results = model.fit(X_pure_train, y_pure_train, epochs=50,\n",
    "                    batch_size= 32, verbose=0,\n",
    "                    validation_data=(X_val, y_val))\n",
    "\n",
    "train_loss = results.history['loss']\n",
    "train_acc = results.history['accuracy']\n",
    "val_loss = results.history['val_loss']\n",
    "val_acc = results.history['val_accuracy']\n",
    "\n",
    "\n",
    "fig, (ax1, ax2) = plt.subplots(1, 2, figsize=(10, 5))\n",
    "sns.lineplot(x=results.epoch, y=train_loss, ax=ax1, label='train_loss')\n",
    "sns.lineplot(x=results.epoch, y=train_acc, ax=ax2, label='train_accuracy')\n",
    "\n",
    "sns.lineplot(x=results.epoch, y=val_loss, ax=ax1, label='val_loss')\n",
    "sns.lineplot(x=results.epoch, y=val_acc, ax=ax2, label='val_accuracy');"
   ]
  },
  {
   "cell_type": "markdown",
   "metadata": {},
   "source": [
    "### Early Stopping"
   ]
  },
  {
   "cell_type": "markdown",
   "metadata": {},
   "source": [
    "We can also tell our neural network to stop once it stops realizing any gain.\n",
    "\n",
    "Here we tell it to stop once the a very small positive change in the validation loss occurs:"
   ]
  },
  {
   "cell_type": "code",
   "execution_count": null,
   "metadata": {},
   "outputs": [],
   "source": [
    "model = Sequential()\n",
    "model.add(Dense(30, activation='relu', input_dim=64))\n",
    "model.add(Dense(20, activation='relu'))\n",
    "model.add(Dropout(0.5))\n",
    "model.add(Dense(12, activation='relu'))\n",
    "model.add(Dense(12, activation='relu'))\n",
    "model.add(Dense(12, activation='relu'))\n",
    "model.add(Dense(8, activation='relu'))\n",
    "model.add(Dense(4, activation='relu'))\n",
    "model.add(Dense(1, activation ='sigmoid'))\n",
    "\n",
    "model.compile(optimizer='adam',\n",
    "              loss='binary_crossentropy',\n",
    "              metrics=['accuracy'])\n",
    "\n",
    "# Define the EarlyStopping object\n",
    "early_stop = EarlyStopping(monitor='val_loss', min_delta=1e-8,\n",
    "                           verbose=1,\n",
    "                           mode='min')\n",
    "\n",
    "# Place this in a list as the value of the `callbacks` parameter\n",
    "# in the `.fit()` method.\n",
    "results = model.fit(X_pure_train, y_pure_train,\n",
    "                    epochs=20, batch_size=32,\n",
    "                    verbose=0, validation_data=(X_val, y_val),\n",
    "                    callbacks=[early_stop])\n",
    "\n",
    "train_loss = results.history['loss']\n",
    "train_acc = results.history['accuracy']\n",
    "val_loss = results.history['val_loss']\n",
    "val_acc = results.history['val_accuracy']\n",
    "\n",
    "\n",
    "fig, (ax1, ax2) = plt.subplots(1, 2, figsize=(10, 5))\n",
    "sns.lineplot(x=results.epoch, y=train_loss, ax=ax1, label='train_loss')\n",
    "sns.lineplot(x=results.epoch, y=train_acc, ax=ax2, label='train_accuracy')\n",
    "\n",
    "sns.lineplot(x=results.epoch, y=val_loss, ax=ax1, label='val_loss')\n",
    "sns.lineplot(x=results.epoch, y=val_acc, ax=ax2, label='val_accuracy');"
   ]
  },
  {
   "cell_type": "markdown",
   "metadata": {},
   "source": [
    "### Exercise\n",
    "\n",
    "That probably stopped too early. We can specify the number of epochs in which it doesn't see decrease in the loss with the `patience` parameter. Modify the code below to include an Early Stop with a patience of 5 epochs."
   ]
  },
  {
   "cell_type": "code",
   "execution_count": null,
   "metadata": {},
   "outputs": [],
   "source": [
    "model = Sequential()\n",
    "model.add(Dense(30, activation='relu', input_dim=64))\n",
    "model.add(Dense(20, activation='relu'))\n",
    "model.add(Dropout(0.5))\n",
    "model.add(Dense(12, activation='relu'))\n",
    "model.add(Dense(12, activation='relu'))\n",
    "model.add(Dense(12, activation='relu'))\n",
    "model.add(Dense(8, activation='relu'))\n",
    "model.add(Dense(4, activation='relu'))\n",
    "model.add(Dense(1, activation ='sigmoid'))\n",
    "\n",
    "model.compile(optimizer='adam',\n",
    "              loss='binary_crossentropy',\n",
    "              metrics=['accuracy'])\n",
    "\n",
    "# Define the EarlyStopping object\n",
    "\n",
    "early_stop = ## YOUR CODE HERE\n",
    "\n",
    "# Place this in a list as the value of the `callbacks` parameter\n",
    "# in the `.fit()` method.\n",
    "results = model.fit(X_pure_train, y_pure_train,\n",
    "                    epochs=50, batch_size= 32,\n",
    "                    verbose=0, validation_data=(X_val, y_val),\n",
    "                    callbacks=[early_stop])\n",
    "\n",
    "train_loss = results.history['loss']\n",
    "train_acc = results.history['accuracy']\n",
    "val_loss = results.history['val_loss']\n",
    "val_acc = results.history['val_accuracy']\n",
    "\n",
    "\n",
    "fig, (ax1, ax2) = plt.subplots(1, 2, figsize=(10, 5))\n",
    "sns.lineplot(x=results.epoch, y=train_loss, ax=ax1, label='train_loss')\n",
    "sns.lineplot(x=results.epoch, y=train_acc, ax=ax2, label='train_accuracy')\n",
    "\n",
    "sns.lineplot(x=results.epoch, y=val_loss, ax=ax1, label='val_loss')\n",
    "sns.lineplot(x=results.epoch, y=val_acc, ax=ax2, label='val_accuracy');"
   ]
  },
  {
   "cell_type": "markdown",
   "metadata": {},
   "source": [
    "## Multiclass Classification and Softmax"
   ]
  },
  {
   "cell_type": "markdown",
   "metadata": {},
   "source": [
    "Now let's return to the problem of predicting digits 0 through 9."
   ]
  },
  {
   "cell_type": "code",
   "execution_count": null,
   "metadata": {},
   "outputs": [],
   "source": [
    "digits = load_digits()\n",
    "X = digits.data\n",
    "y = digits.target"
   ]
  },
  {
   "cell_type": "code",
   "execution_count": null,
   "metadata": {},
   "outputs": [],
   "source": [
    "X_train, X_test, y_train, y_test = train_test_split(X, y,\n",
    "                                                    random_state=42,\n",
    "                                                    test_size=0.2)\n",
    "X_pure_train, X_val, y_pure_train, y_val =\\\n",
    "    train_test_split(X_train, y_train,\n",
    "                     random_state=42, test_size=0.2)\n",
    "X_pure_train, X_val, X_test = X_pure_train/16, X_val/16, X_test/16"
   ]
  },
  {
   "cell_type": "markdown",
   "metadata": {},
   "source": [
    "For a multiclass output, our neural net expects our target to be in a certain form."
   ]
  },
  {
   "cell_type": "code",
   "execution_count": null,
   "metadata": {},
   "outputs": [],
   "source": [
    "ohe = OneHotEncoder(sparse=False)\n",
    "y_pure_train = ohe.fit_transform(y_pure_train.reshape(-1,1))\n",
    "y_val = ohe.transform(y_val.reshape(-1,1))\n",
    "y_test = ohe.transform(y_test.reshape(-1,1))"
   ]
  },
  {
   "cell_type": "code",
   "execution_count": null,
   "metadata": {},
   "outputs": [],
   "source": [
    "y_test"
   ]
  },
  {
   "cell_type": "code",
   "execution_count": null,
   "metadata": {},
   "outputs": [],
   "source": [
    "# Model from above, but now with ten output neurons:\n",
    "\n",
    "model = Sequential()\n",
    "model.add(Dense(12, activation='relu', input_dim=64))\n",
    "model.add(Dense(8, activation='relu'))\n",
    "model.add(Dense(10, activation='softmax'))\n",
    "\n",
    "model.compile(optimizer='adam',\n",
    "              loss='categorical_crossentropy',\n",
    "              metrics=['accuracy'])\n",
    "\n",
    "results = model.fit(X_pure_train, y_pure_train,\n",
    "                   epochs=50, batch_size=10,\n",
    "                   validation_data=(X_val, y_val))"
   ]
  },
  {
   "cell_type": "markdown",
   "metadata": {},
   "source": [
    "$$\\large \\text{Softmax}(x_{i}) = \\frac{\\exp(x_i)}{\\sum_j \\exp(x_j)}$$\n",
    "\n",
    "The sofmax function outputs a number between 0 and 1 for each of our classes.  All of the probabilities of the classes sum up to 1.\n",
    "\n",
    "The number of nodes in our output layer equals the number of categories in our dataset.\n",
    "\n",
    "We also need a new loss function: **categorical crossentropy**, which calculates a separate loss for each label and then sums the results."
   ]
  },
  {
   "cell_type": "code",
   "execution_count": null,
   "metadata": {},
   "outputs": [],
   "source": [
    "history = results.history\n",
    "training_loss = history['loss']\n",
    "val_loss = history['val_loss']\n",
    "training_accuracy = history['accuracy']\n",
    "val_accuracy = history['val_accuracy']"
   ]
  },
  {
   "cell_type": "code",
   "execution_count": null,
   "metadata": {},
   "outputs": [],
   "source": [
    "fig, (ax1,ax2) = plt.subplots(1,2,figsize=(15,5))\n",
    "\n",
    "\n",
    "sns.lineplot(x=list(range(len(training_loss))),\n",
    "             y=training_loss, color='r', label='training', ax=ax1)\n",
    "sns.lineplot(x=list(range(len(val_loss))),\n",
    "             y=val_loss, color='b', label='validation', ax=ax1)\n",
    "sns.lineplot(x=list(range(len(training_loss))),\n",
    "             y=training_accuracy, color='r', label='training',ax=ax2)\n",
    "sns.lineplot(x=list(range(len(val_loss))),\n",
    "             y=val_accuracy, color='b', label='validation',ax=ax2)\n",
    "ax1.legend();"
   ]
  },
  {
   "cell_type": "code",
   "execution_count": null,
   "metadata": {},
   "outputs": [],
   "source": [
    "y_hat_test = np.argmax(model.predict(X_test), axis=-1)"
   ]
  },
  {
   "cell_type": "code",
   "execution_count": null,
   "metadata": {},
   "outputs": [],
   "source": [
    "y_test_restore = ohe.inverse_transform(y_test)\n",
    "confusion_matrix(y_test_restore, y_hat_test)"
   ]
  },
  {
   "cell_type": "markdown",
   "metadata": {},
   "source": [
    "Wow, look at that performance!  \n",
    "\n",
    "That is great, but remember, we were dealing with simple black and white images.  With color, our basic neural net will have less success.\n",
    "\n",
    "We will explore more advanced tools in the coming days.\n"
   ]
  },
  {
   "cell_type": "markdown",
   "metadata": {
    "colab_type": "text",
    "id": "EdZDyJfARV8l"
   },
   "source": [
    "## Appendix: More on Tensorflow Vs. Keras\n",
    "\n",
    "\n",
    "### Let's start with tensors\n",
    "\n",
    "Tensors are multidimensional matrices.\n",
    "\n",
    "![tensor](img/tensors.png)\n",
    "\n",
    "### TensorFlow manages the flow of matrix math\n",
    "\n",
    "That makes neural network processing possible.\n",
    "\n",
    "![cat](img/cat-tensors.gif)\n",
    "\n",
    "For our numbers dataset, our tensors from the `sklearn` dataset were originally tensors of the shape 8x8, i.e. 64-bit pictures. Remember, that was with black and white images.\n",
    "\n",
    "For image processing, we are often dealing with color."
   ]
  },
  {
   "cell_type": "code",
   "execution_count": null,
   "metadata": {
    "colab_type": "text",
    "id": "EdZDyJfARV8l"
   },
   "outputs": [],
   "source": [
    "image = load_sample_images()['images'][0]\n",
    "\n",
    "imgplot = plt.imshow(image)"
   ]
  },
  {
   "cell_type": "code",
   "execution_count": null,
   "metadata": {
    "colab_type": "text",
    "id": "EdZDyJfARV8l"
   },
   "outputs": [],
   "source": [
    "image.shape"
   ]
  },
  {
   "cell_type": "markdown",
   "metadata": {
    "colab_type": "text",
    "id": "EdZDyJfARV8l"
   },
   "source": [
    "What do the dimensions of our image above represent?\n",
    "\n",
    "Tensors with higher numbers of dimensions have a higher **rank**.\n",
    "\n",
    "A matrix with rows and columns only, like the black and white numbers, has **rank 2**.\n",
    "\n",
    "A matrix with a third dimension, like the color pictures above, has **rank 3**.\n",
    "\n",
    "When we flatten an image by stacking the rows in a column, we are decreasing the rank. "
   ]
  },
  {
   "cell_type": "code",
   "execution_count": null,
   "metadata": {
    "colab_type": "text",
    "id": "EdZDyJfARV8l"
   },
   "outputs": [],
   "source": [
    "flat_image = image.reshape(-1, 1)\n",
    "\n",
    "flat_image.shape"
   ]
  },
  {
   "cell_type": "code",
   "execution_count": null,
   "metadata": {
    "colab_type": "text",
    "id": "EdZDyJfARV8l"
   },
   "outputs": [],
   "source": [
    "427*640*3"
   ]
  },
  {
   "cell_type": "markdown",
   "metadata": {
    "colab_type": "text",
    "id": "EdZDyJfARV8l"
   },
   "source": [
    "## TensorFlow has more levers and buttons, but Keras is more user-friendly\n",
    "\n",
    "Coding directly in **Tensorflow** allows you to tweak more parameters to optimize performance. The **Keras** wrapper makes the code more accessible for developers prototyping models.\n",
    "\n",
    "![levers](img/levers.jpeg)\n",
    "\n",
    "### Keras, an API with an intentional UX\n",
    "\n",
    "- Deliberately design end-to-end user workflows\n",
    "- Reduce cognitive load for your users\n",
    "- Provide helpful feedback to your users\n",
    "\n",
    "[full article here](https://blog.keras.io/user-experience-design-for-apis.html)<br>\n",
    "[full list of why to use Keras](https://keras.io/why-use-keras/)\n",
    "\n",
    "### A few comparisons\n",
    "\n",
    "While you **can leverage both**, here are a few comparisons.\n",
    "\n",
    "| Comparison | Keras | Tensorflow|\n",
    "|------------|-------|-----------|\n",
    "| **Level of API** | high-level API | High and low-level APIs |\n",
    "| **Speed** |  can *seem* slower |  is a bit faster |\n",
    "| **Language architecture** | simple architecture, more readable and concise | straight tensorflow is a bit more complex |\n",
    "| **Debugging** | less frequent need to debug | difficult to debug |\n",
    "| **Datasets** | usually used for small datasets | high performance models and large datasets that require fast execution|\n",
    "\n",
    "This is also a _**non-issue**_ - as you can leverage `tensorflow` commands within `keras` and vice versa. If Keras ever seems slower, it's because the developer's time is more expensive than the GPUs'. Keras is designed with the developer in mind. \n",
    "\n",
    "[reference link](https://www.edureka.co/blog/keras-vs-tensorflow-vs-pytorch/)"
   ]
  },
  {
   "cell_type": "code",
   "execution_count": null,
   "metadata": {},
   "outputs": [],
   "source": []
  }
 ],
 "metadata": {
  "celltoolbar": "Raw Cell Format",
  "colab": {
   "collapsed_sections": [],
   "name": "intro-to-keras.ipynb",
   "provenance": []
  },
  "kernelspec": {
   "display_name": "Python 3",
   "language": "python",
   "name": "python3"
  },
  "language_info": {
   "codemirror_mode": {
    "name": "ipython",
    "version": 3
   },
   "file_extension": ".py",
   "mimetype": "text/x-python",
   "name": "python",
   "nbconvert_exporter": "python",
   "pygments_lexer": "ipython3",
   "version": "3.8.5"
  }
 },
 "nbformat": 4,
 "nbformat_minor": 4
}
